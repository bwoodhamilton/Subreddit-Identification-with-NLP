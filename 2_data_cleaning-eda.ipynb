{
 "cells": [
  {
   "cell_type": "markdown",
   "metadata": {},
   "source": [
    "# Data Cleaning and EDA"
   ]
  },
  {
   "cell_type": "code",
   "execution_count": 16,
   "metadata": {},
   "outputs": [],
   "source": [
    "# Importing packages needed for Data Cleaning and EDA\n",
    "import pandas as pd \n",
    "import matplotlib.pyplot as plt"
   ]
  },
  {
   "cell_type": "code",
   "execution_count": 17,
   "metadata": {},
   "outputs": [],
   "source": [
    "# Bringing in the csv files as pandas dataframes\n",
    "gimlet_comments = pd.read_csv('./data/gimlet_comments.csv')\n",
    "gimlet_comments2 = pd.read_csv('./data/gimlet_comments2.csv')\n",
    "gimlet_comments3 = pd.read_csv('./data/gimlet_comments3.csv')\n",
    "gimlet_submissions = pd.read_csv('./data/gimlet_submissions.csv')\n",
    "max_fun_comments = pd.read_csv('./data/max_fun_comments.csv')\n",
    "max_fun_comments2 = pd.read_csv('./data/max_fun_comments2.csv')\n",
    "max_fun_comments3 = pd.read_csv('./data/max_fun_comments3.csv')\n",
    "max_fun_submissions = pd.read_csv('./data/max_fun_submissions.csv')"
   ]
  },
  {
   "cell_type": "code",
   "execution_count": 18,
   "metadata": {},
   "outputs": [],
   "source": [
    "# Concatenating the separate comment pulls I had into consolidated dataframes \n",
    "gimlet_comments = pd.concat([gimlet_comments3, gimlet_comments2, gimlet_comments],sort=True, ignore_index=True)\n",
    "max_fun_comments = pd.concat([max_fun_comments3, max_fun_comments2, max_fun_comments],sort=True, ignore_index=True)"
   ]
  },
  {
   "cell_type": "code",
   "execution_count": 19,
   "metadata": {},
   "outputs": [
    {
     "data": {
      "text/html": [
       "<div>\n",
       "<style scoped>\n",
       "    .dataframe tbody tr th:only-of-type {\n",
       "        vertical-align: middle;\n",
       "    }\n",
       "\n",
       "    .dataframe tbody tr th {\n",
       "        vertical-align: top;\n",
       "    }\n",
       "\n",
       "    .dataframe thead th {\n",
       "        text-align: right;\n",
       "    }\n",
       "</style>\n",
       "<table border=\"1\" class=\"dataframe\">\n",
       "  <thead>\n",
       "    <tr style=\"text-align: right;\">\n",
       "      <th></th>\n",
       "      <th>author</th>\n",
       "      <th>body</th>\n",
       "      <th>created_utc</th>\n",
       "      <th>subreddit</th>\n",
       "    </tr>\n",
       "  </thead>\n",
       "  <tbody>\n",
       "    <tr>\n",
       "      <th>0</th>\n",
       "      <td>CubeLifeDeskJob</td>\n",
       "      <td>She didn't mention this when I asked her.  She...</td>\n",
       "      <td>1553281124</td>\n",
       "      <td>gimlet</td>\n",
       "    </tr>\n",
       "    <tr>\n",
       "      <th>1</th>\n",
       "      <td>CubeLifeDeskJob</td>\n",
       "      <td>I mean, I was, but not for the sole purpose of...</td>\n",
       "      <td>1553280963</td>\n",
       "      <td>gimlet</td>\n",
       "    </tr>\n",
       "    <tr>\n",
       "      <th>2</th>\n",
       "      <td>heimmrich</td>\n",
       "      <td>Hardly. The best talent around in podcast has ...</td>\n",
       "      <td>1553280896</td>\n",
       "      <td>gimlet</td>\n",
       "    </tr>\n",
       "    <tr>\n",
       "      <th>3</th>\n",
       "      <td>heimmrich</td>\n",
       "      <td>She can't do season 2 because gimlet owns the ...</td>\n",
       "      <td>1553280716</td>\n",
       "      <td>gimlet</td>\n",
       "    </tr>\n",
       "    <tr>\n",
       "      <th>4</th>\n",
       "      <td>Subalpine</td>\n",
       "      <td>Search Party. really excellent and critically ...</td>\n",
       "      <td>1553280571</td>\n",
       "      <td>gimlet</td>\n",
       "    </tr>\n",
       "  </tbody>\n",
       "</table>\n",
       "</div>"
      ],
      "text/plain": [
       "            author                                               body  \\\n",
       "0  CubeLifeDeskJob  She didn't mention this when I asked her.  She...   \n",
       "1  CubeLifeDeskJob  I mean, I was, but not for the sole purpose of...   \n",
       "2        heimmrich  Hardly. The best talent around in podcast has ...   \n",
       "3        heimmrich  She can't do season 2 because gimlet owns the ...   \n",
       "4        Subalpine  Search Party. really excellent and critically ...   \n",
       "\n",
       "   created_utc subreddit  \n",
       "0   1553281124    gimlet  \n",
       "1   1553280963    gimlet  \n",
       "2   1553280896    gimlet  \n",
       "3   1553280716    gimlet  \n",
       "4   1553280571    gimlet  "
      ]
     },
     "execution_count": 19,
     "metadata": {},
     "output_type": "execute_result"
    }
   ],
   "source": [
    "# Checking out the data \n",
    "gimlet_comments.head()"
   ]
  },
  {
   "cell_type": "code",
   "execution_count": 20,
   "metadata": {},
   "outputs": [],
   "source": [
    "# Setting the type as comment so I can separate out comments if I need to later \n",
    "gimlet_comments['type'] = 'comment'"
   ]
  },
  {
   "cell_type": "code",
   "execution_count": 21,
   "metadata": {},
   "outputs": [
    {
     "data": {
      "text/html": [
       "<div>\n",
       "<style scoped>\n",
       "    .dataframe tbody tr th:only-of-type {\n",
       "        vertical-align: middle;\n",
       "    }\n",
       "\n",
       "    .dataframe tbody tr th {\n",
       "        vertical-align: top;\n",
       "    }\n",
       "\n",
       "    .dataframe thead th {\n",
       "        text-align: right;\n",
       "    }\n",
       "</style>\n",
       "<table border=\"1\" class=\"dataframe\">\n",
       "  <thead>\n",
       "    <tr style=\"text-align: right;\">\n",
       "      <th></th>\n",
       "      <th>author</th>\n",
       "      <th>body</th>\n",
       "      <th>created_utc</th>\n",
       "      <th>subreddit</th>\n",
       "      <th>type</th>\n",
       "    </tr>\n",
       "  </thead>\n",
       "  <tbody>\n",
       "    <tr>\n",
       "      <th>0</th>\n",
       "      <td>CubeLifeDeskJob</td>\n",
       "      <td>She didn't mention this when I asked her.  She...</td>\n",
       "      <td>1553281124</td>\n",
       "      <td>gimlet</td>\n",
       "      <td>comment</td>\n",
       "    </tr>\n",
       "    <tr>\n",
       "      <th>1</th>\n",
       "      <td>CubeLifeDeskJob</td>\n",
       "      <td>I mean, I was, but not for the sole purpose of...</td>\n",
       "      <td>1553280963</td>\n",
       "      <td>gimlet</td>\n",
       "      <td>comment</td>\n",
       "    </tr>\n",
       "    <tr>\n",
       "      <th>2</th>\n",
       "      <td>heimmrich</td>\n",
       "      <td>Hardly. The best talent around in podcast has ...</td>\n",
       "      <td>1553280896</td>\n",
       "      <td>gimlet</td>\n",
       "      <td>comment</td>\n",
       "    </tr>\n",
       "    <tr>\n",
       "      <th>3</th>\n",
       "      <td>heimmrich</td>\n",
       "      <td>She can't do season 2 because gimlet owns the ...</td>\n",
       "      <td>1553280716</td>\n",
       "      <td>gimlet</td>\n",
       "      <td>comment</td>\n",
       "    </tr>\n",
       "    <tr>\n",
       "      <th>4</th>\n",
       "      <td>Subalpine</td>\n",
       "      <td>Search Party. really excellent and critically ...</td>\n",
       "      <td>1553280571</td>\n",
       "      <td>gimlet</td>\n",
       "      <td>comment</td>\n",
       "    </tr>\n",
       "  </tbody>\n",
       "</table>\n",
       "</div>"
      ],
      "text/plain": [
       "            author                                               body  \\\n",
       "0  CubeLifeDeskJob  She didn't mention this when I asked her.  She...   \n",
       "1  CubeLifeDeskJob  I mean, I was, but not for the sole purpose of...   \n",
       "2        heimmrich  Hardly. The best talent around in podcast has ...   \n",
       "3        heimmrich  She can't do season 2 because gimlet owns the ...   \n",
       "4        Subalpine  Search Party. really excellent and critically ...   \n",
       "\n",
       "   created_utc subreddit     type  \n",
       "0   1553281124    gimlet  comment  \n",
       "1   1553280963    gimlet  comment  \n",
       "2   1553280896    gimlet  comment  \n",
       "3   1553280716    gimlet  comment  \n",
       "4   1553280571    gimlet  comment  "
      ]
     },
     "execution_count": 21,
     "metadata": {},
     "output_type": "execute_result"
    }
   ],
   "source": [
    "# Checking out the data to see if the change stuck\n",
    "gimlet_comments.head()"
   ]
  },
  {
   "cell_type": "code",
   "execution_count": 22,
   "metadata": {},
   "outputs": [
    {
     "data": {
      "text/html": [
       "<div>\n",
       "<style scoped>\n",
       "    .dataframe tbody tr th:only-of-type {\n",
       "        vertical-align: middle;\n",
       "    }\n",
       "\n",
       "    .dataframe tbody tr th {\n",
       "        vertical-align: top;\n",
       "    }\n",
       "\n",
       "    .dataframe thead th {\n",
       "        text-align: right;\n",
       "    }\n",
       "</style>\n",
       "<table border=\"1\" class=\"dataframe\">\n",
       "  <thead>\n",
       "    <tr style=\"text-align: right;\">\n",
       "      <th></th>\n",
       "      <th>author</th>\n",
       "      <th>created_utc</th>\n",
       "      <th>selftext</th>\n",
       "      <th>subreddit</th>\n",
       "      <th>title</th>\n",
       "    </tr>\n",
       "  </thead>\n",
       "  <tbody>\n",
       "    <tr>\n",
       "      <th>0</th>\n",
       "      <td>nsermo</td>\n",
       "      <td>1579933396</td>\n",
       "      <td>Ok, so I've been thinking this ever since I li...</td>\n",
       "      <td>gimlet</td>\n",
       "      <td>Heavyweight: Gregor kinda sucks</td>\n",
       "    </tr>\n",
       "    <tr>\n",
       "      <th>1</th>\n",
       "      <td>omarlittle22</td>\n",
       "      <td>1579811974</td>\n",
       "      <td>Last week it said there would not be an episod...</td>\n",
       "      <td>gimlet</td>\n",
       "      <td>replyall.fyi is playing games with my heart.</td>\n",
       "    </tr>\n",
       "    <tr>\n",
       "      <th>2</th>\n",
       "      <td>Gimleteer</td>\n",
       "      <td>1579770023</td>\n",
       "      <td>NaN</td>\n",
       "      <td>gimlet</td>\n",
       "      <td>Motherhood Sessions - Just Sh*t Luck</td>\n",
       "    </tr>\n",
       "    <tr>\n",
       "      <th>3</th>\n",
       "      <td>jasmineblue0202</td>\n",
       "      <td>1579751680</td>\n",
       "      <td>NaN</td>\n",
       "      <td>gimlet</td>\n",
       "      <td>I Got Addicted to Heroin in Front of 1.5 Milli...</td>\n",
       "    </tr>\n",
       "    <tr>\n",
       "      <th>4</th>\n",
       "      <td>saward92</td>\n",
       "      <td>1579749714</td>\n",
       "      <td>NaN</td>\n",
       "      <td>gimlet</td>\n",
       "      <td>Do we know why it's been more than a month sin...</td>\n",
       "    </tr>\n",
       "  </tbody>\n",
       "</table>\n",
       "</div>"
      ],
      "text/plain": [
       "            author  created_utc  \\\n",
       "0           nsermo   1579933396   \n",
       "1     omarlittle22   1579811974   \n",
       "2        Gimleteer   1579770023   \n",
       "3  jasmineblue0202   1579751680   \n",
       "4         saward92   1579749714   \n",
       "\n",
       "                                            selftext subreddit  \\\n",
       "0  Ok, so I've been thinking this ever since I li...    gimlet   \n",
       "1  Last week it said there would not be an episod...    gimlet   \n",
       "2                                                NaN    gimlet   \n",
       "3                                                NaN    gimlet   \n",
       "4                                                NaN    gimlet   \n",
       "\n",
       "                                               title  \n",
       "0                    Heavyweight: Gregor kinda sucks  \n",
       "1       replyall.fyi is playing games with my heart.  \n",
       "2               Motherhood Sessions - Just Sh*t Luck  \n",
       "3  I Got Addicted to Heroin in Front of 1.5 Milli...  \n",
       "4  Do we know why it's been more than a month sin...  "
      ]
     },
     "execution_count": 22,
     "metadata": {},
     "output_type": "execute_result"
    }
   ],
   "source": [
    "# Checking out the gimlet submissions data \n",
    "gimlet_submissions.head()"
   ]
  },
  {
   "cell_type": "code",
   "execution_count": 23,
   "metadata": {},
   "outputs": [],
   "source": [
    "# Setting a column with the type of submission\n",
    "gimlet_submissions['type'] = 'submission'"
   ]
  },
  {
   "cell_type": "code",
   "execution_count": 24,
   "metadata": {},
   "outputs": [
    {
     "data": {
      "text/html": [
       "<div>\n",
       "<style scoped>\n",
       "    .dataframe tbody tr th:only-of-type {\n",
       "        vertical-align: middle;\n",
       "    }\n",
       "\n",
       "    .dataframe tbody tr th {\n",
       "        vertical-align: top;\n",
       "    }\n",
       "\n",
       "    .dataframe thead th {\n",
       "        text-align: right;\n",
       "    }\n",
       "</style>\n",
       "<table border=\"1\" class=\"dataframe\">\n",
       "  <thead>\n",
       "    <tr style=\"text-align: right;\">\n",
       "      <th></th>\n",
       "      <th>author</th>\n",
       "      <th>created_utc</th>\n",
       "      <th>selftext</th>\n",
       "      <th>subreddit</th>\n",
       "      <th>title</th>\n",
       "      <th>type</th>\n",
       "    </tr>\n",
       "  </thead>\n",
       "  <tbody>\n",
       "    <tr>\n",
       "      <th>0</th>\n",
       "      <td>nsermo</td>\n",
       "      <td>1579933396</td>\n",
       "      <td>Ok, so I've been thinking this ever since I li...</td>\n",
       "      <td>gimlet</td>\n",
       "      <td>Heavyweight: Gregor kinda sucks</td>\n",
       "      <td>submission</td>\n",
       "    </tr>\n",
       "    <tr>\n",
       "      <th>1</th>\n",
       "      <td>omarlittle22</td>\n",
       "      <td>1579811974</td>\n",
       "      <td>Last week it said there would not be an episod...</td>\n",
       "      <td>gimlet</td>\n",
       "      <td>replyall.fyi is playing games with my heart.</td>\n",
       "      <td>submission</td>\n",
       "    </tr>\n",
       "    <tr>\n",
       "      <th>2</th>\n",
       "      <td>Gimleteer</td>\n",
       "      <td>1579770023</td>\n",
       "      <td>NaN</td>\n",
       "      <td>gimlet</td>\n",
       "      <td>Motherhood Sessions - Just Sh*t Luck</td>\n",
       "      <td>submission</td>\n",
       "    </tr>\n",
       "    <tr>\n",
       "      <th>3</th>\n",
       "      <td>jasmineblue0202</td>\n",
       "      <td>1579751680</td>\n",
       "      <td>NaN</td>\n",
       "      <td>gimlet</td>\n",
       "      <td>I Got Addicted to Heroin in Front of 1.5 Milli...</td>\n",
       "      <td>submission</td>\n",
       "    </tr>\n",
       "    <tr>\n",
       "      <th>4</th>\n",
       "      <td>saward92</td>\n",
       "      <td>1579749714</td>\n",
       "      <td>NaN</td>\n",
       "      <td>gimlet</td>\n",
       "      <td>Do we know why it's been more than a month sin...</td>\n",
       "      <td>submission</td>\n",
       "    </tr>\n",
       "  </tbody>\n",
       "</table>\n",
       "</div>"
      ],
      "text/plain": [
       "            author  created_utc  \\\n",
       "0           nsermo   1579933396   \n",
       "1     omarlittle22   1579811974   \n",
       "2        Gimleteer   1579770023   \n",
       "3  jasmineblue0202   1579751680   \n",
       "4         saward92   1579749714   \n",
       "\n",
       "                                            selftext subreddit  \\\n",
       "0  Ok, so I've been thinking this ever since I li...    gimlet   \n",
       "1  Last week it said there would not be an episod...    gimlet   \n",
       "2                                                NaN    gimlet   \n",
       "3                                                NaN    gimlet   \n",
       "4                                                NaN    gimlet   \n",
       "\n",
       "                                               title        type  \n",
       "0                    Heavyweight: Gregor kinda sucks  submission  \n",
       "1       replyall.fyi is playing games with my heart.  submission  \n",
       "2               Motherhood Sessions - Just Sh*t Luck  submission  \n",
       "3  I Got Addicted to Heroin in Front of 1.5 Milli...  submission  \n",
       "4  Do we know why it's been more than a month sin...  submission  "
      ]
     },
     "execution_count": 24,
     "metadata": {},
     "output_type": "execute_result"
    }
   ],
   "source": [
    "# Checking to see if the change stuck\n",
    "gimlet_submissions.head()"
   ]
  },
  {
   "cell_type": "code",
   "execution_count": 25,
   "metadata": {},
   "outputs": [
    {
     "data": {
      "text/html": [
       "<div>\n",
       "<style scoped>\n",
       "    .dataframe tbody tr th:only-of-type {\n",
       "        vertical-align: middle;\n",
       "    }\n",
       "\n",
       "    .dataframe tbody tr th {\n",
       "        vertical-align: top;\n",
       "    }\n",
       "\n",
       "    .dataframe thead th {\n",
       "        text-align: right;\n",
       "    }\n",
       "</style>\n",
       "<table border=\"1\" class=\"dataframe\">\n",
       "  <thead>\n",
       "    <tr style=\"text-align: right;\">\n",
       "      <th></th>\n",
       "      <th>author</th>\n",
       "      <th>body</th>\n",
       "      <th>created_utc</th>\n",
       "      <th>subreddit</th>\n",
       "    </tr>\n",
       "  </thead>\n",
       "  <tbody>\n",
       "    <tr>\n",
       "      <th>0</th>\n",
       "      <td>djmyst9119</td>\n",
       "      <td>Up until \"M'Bank,\" I was fairly certain the na...</td>\n",
       "      <td>1556126487</td>\n",
       "      <td>maximumfun</td>\n",
       "    </tr>\n",
       "    <tr>\n",
       "      <th>1</th>\n",
       "      <td>thesupermikey</td>\n",
       "      <td>I think it was a one thing thing while they ar...</td>\n",
       "      <td>1556126361</td>\n",
       "      <td>maximumfun</td>\n",
       "    </tr>\n",
       "    <tr>\n",
       "      <th>2</th>\n",
       "      <td>apathymonger</td>\n",
       "      <td>Offices and Bosses started coming out on the H...</td>\n",
       "      <td>1556126205</td>\n",
       "      <td>maximumfun</td>\n",
       "    </tr>\n",
       "    <tr>\n",
       "      <th>3</th>\n",
       "      <td>jeremyfrankly</td>\n",
       "      <td>I keep a [list](http://jeremyfrankly.com/best-...</td>\n",
       "      <td>1556125174</td>\n",
       "      <td>maximumfun</td>\n",
       "    </tr>\n",
       "    <tr>\n",
       "      <th>4</th>\n",
       "      <td>groverjefferson</td>\n",
       "      <td>I demand Science Olympiad representation here!</td>\n",
       "      <td>1556125131</td>\n",
       "      <td>maximumfun</td>\n",
       "    </tr>\n",
       "  </tbody>\n",
       "</table>\n",
       "</div>"
      ],
      "text/plain": [
       "            author                                               body  \\\n",
       "0       djmyst9119  Up until \"M'Bank,\" I was fairly certain the na...   \n",
       "1    thesupermikey  I think it was a one thing thing while they ar...   \n",
       "2     apathymonger  Offices and Bosses started coming out on the H...   \n",
       "3    jeremyfrankly  I keep a [list](http://jeremyfrankly.com/best-...   \n",
       "4  groverjefferson     I demand Science Olympiad representation here!   \n",
       "\n",
       "   created_utc   subreddit  \n",
       "0   1556126487  maximumfun  \n",
       "1   1556126361  maximumfun  \n",
       "2   1556126205  maximumfun  \n",
       "3   1556125174  maximumfun  \n",
       "4   1556125131  maximumfun  "
      ]
     },
     "execution_count": 25,
     "metadata": {},
     "output_type": "execute_result"
    }
   ],
   "source": [
    "# Checking out the dataframe\n",
    "max_fun_comments.head()"
   ]
  },
  {
   "cell_type": "code",
   "execution_count": 26,
   "metadata": {},
   "outputs": [],
   "source": [
    "# Setting a type as comment \n",
    "max_fun_comments['type'] = 'comment'"
   ]
  },
  {
   "cell_type": "code",
   "execution_count": 27,
   "metadata": {},
   "outputs": [
    {
     "data": {
      "text/html": [
       "<div>\n",
       "<style scoped>\n",
       "    .dataframe tbody tr th:only-of-type {\n",
       "        vertical-align: middle;\n",
       "    }\n",
       "\n",
       "    .dataframe tbody tr th {\n",
       "        vertical-align: top;\n",
       "    }\n",
       "\n",
       "    .dataframe thead th {\n",
       "        text-align: right;\n",
       "    }\n",
       "</style>\n",
       "<table border=\"1\" class=\"dataframe\">\n",
       "  <thead>\n",
       "    <tr style=\"text-align: right;\">\n",
       "      <th></th>\n",
       "      <th>author</th>\n",
       "      <th>body</th>\n",
       "      <th>created_utc</th>\n",
       "      <th>subreddit</th>\n",
       "      <th>type</th>\n",
       "    </tr>\n",
       "  </thead>\n",
       "  <tbody>\n",
       "    <tr>\n",
       "      <th>0</th>\n",
       "      <td>djmyst9119</td>\n",
       "      <td>Up until \"M'Bank,\" I was fairly certain the na...</td>\n",
       "      <td>1556126487</td>\n",
       "      <td>maximumfun</td>\n",
       "      <td>comment</td>\n",
       "    </tr>\n",
       "    <tr>\n",
       "      <th>1</th>\n",
       "      <td>thesupermikey</td>\n",
       "      <td>I think it was a one thing thing while they ar...</td>\n",
       "      <td>1556126361</td>\n",
       "      <td>maximumfun</td>\n",
       "      <td>comment</td>\n",
       "    </tr>\n",
       "    <tr>\n",
       "      <th>2</th>\n",
       "      <td>apathymonger</td>\n",
       "      <td>Offices and Bosses started coming out on the H...</td>\n",
       "      <td>1556126205</td>\n",
       "      <td>maximumfun</td>\n",
       "      <td>comment</td>\n",
       "    </tr>\n",
       "    <tr>\n",
       "      <th>3</th>\n",
       "      <td>jeremyfrankly</td>\n",
       "      <td>I keep a [list](http://jeremyfrankly.com/best-...</td>\n",
       "      <td>1556125174</td>\n",
       "      <td>maximumfun</td>\n",
       "      <td>comment</td>\n",
       "    </tr>\n",
       "    <tr>\n",
       "      <th>4</th>\n",
       "      <td>groverjefferson</td>\n",
       "      <td>I demand Science Olympiad representation here!</td>\n",
       "      <td>1556125131</td>\n",
       "      <td>maximumfun</td>\n",
       "      <td>comment</td>\n",
       "    </tr>\n",
       "  </tbody>\n",
       "</table>\n",
       "</div>"
      ],
      "text/plain": [
       "            author                                               body  \\\n",
       "0       djmyst9119  Up until \"M'Bank,\" I was fairly certain the na...   \n",
       "1    thesupermikey  I think it was a one thing thing while they ar...   \n",
       "2     apathymonger  Offices and Bosses started coming out on the H...   \n",
       "3    jeremyfrankly  I keep a [list](http://jeremyfrankly.com/best-...   \n",
       "4  groverjefferson     I demand Science Olympiad representation here!   \n",
       "\n",
       "   created_utc   subreddit     type  \n",
       "0   1556126487  maximumfun  comment  \n",
       "1   1556126361  maximumfun  comment  \n",
       "2   1556126205  maximumfun  comment  \n",
       "3   1556125174  maximumfun  comment  \n",
       "4   1556125131  maximumfun  comment  "
      ]
     },
     "execution_count": 27,
     "metadata": {},
     "output_type": "execute_result"
    }
   ],
   "source": [
    "# Checking out the dataframe to see if it stuck \n",
    "max_fun_comments.head()"
   ]
  },
  {
   "cell_type": "code",
   "execution_count": 28,
   "metadata": {},
   "outputs": [
    {
     "data": {
      "text/html": [
       "<div>\n",
       "<style scoped>\n",
       "    .dataframe tbody tr th:only-of-type {\n",
       "        vertical-align: middle;\n",
       "    }\n",
       "\n",
       "    .dataframe tbody tr th {\n",
       "        vertical-align: top;\n",
       "    }\n",
       "\n",
       "    .dataframe thead th {\n",
       "        text-align: right;\n",
       "    }\n",
       "</style>\n",
       "<table border=\"1\" class=\"dataframe\">\n",
       "  <thead>\n",
       "    <tr style=\"text-align: right;\">\n",
       "      <th></th>\n",
       "      <th>author</th>\n",
       "      <th>created_utc</th>\n",
       "      <th>selftext</th>\n",
       "      <th>subreddit</th>\n",
       "      <th>title</th>\n",
       "    </tr>\n",
       "  </thead>\n",
       "  <tbody>\n",
       "    <tr>\n",
       "      <th>0</th>\n",
       "      <td>apathymonger</td>\n",
       "      <td>1579896697</td>\n",
       "      <td>NaN</td>\n",
       "      <td>maximumfun</td>\n",
       "      <td>Who Shot Ya? Episode 125: ‘Dolittle’ and the B...</td>\n",
       "    </tr>\n",
       "    <tr>\n",
       "      <th>1</th>\n",
       "      <td>apathymonger</td>\n",
       "      <td>1579892605</td>\n",
       "      <td>NaN</td>\n",
       "      <td>maximumfun</td>\n",
       "      <td>Sawbones: IV Cocktails</td>\n",
       "    </tr>\n",
       "    <tr>\n",
       "      <th>2</th>\n",
       "      <td>apathymonger</td>\n",
       "      <td>1579891544</td>\n",
       "      <td>NaN</td>\n",
       "      <td>maximumfun</td>\n",
       "      <td>Still Buffering: NikkieTutorials</td>\n",
       "    </tr>\n",
       "    <tr>\n",
       "      <th>3</th>\n",
       "      <td>Currymango</td>\n",
       "      <td>1579829527</td>\n",
       "      <td>NaN</td>\n",
       "      <td>maximumfun</td>\n",
       "      <td>The JV Club Ep. 359: Jamie Loftus</td>\n",
       "    </tr>\n",
       "    <tr>\n",
       "      <th>4</th>\n",
       "      <td>Currymango</td>\n",
       "      <td>1579829493</td>\n",
       "      <td>NaN</td>\n",
       "      <td>maximumfun</td>\n",
       "      <td>Switchblade Sisters Episode 116: ‘Bunny Lake I...</td>\n",
       "    </tr>\n",
       "  </tbody>\n",
       "</table>\n",
       "</div>"
      ],
      "text/plain": [
       "         author  created_utc selftext   subreddit  \\\n",
       "0  apathymonger   1579896697      NaN  maximumfun   \n",
       "1  apathymonger   1579892605      NaN  maximumfun   \n",
       "2  apathymonger   1579891544      NaN  maximumfun   \n",
       "3    Currymango   1579829527      NaN  maximumfun   \n",
       "4    Currymango   1579829493      NaN  maximumfun   \n",
       "\n",
       "                                               title  \n",
       "0  Who Shot Ya? Episode 125: ‘Dolittle’ and the B...  \n",
       "1                             Sawbones: IV Cocktails  \n",
       "2                   Still Buffering: NikkieTutorials  \n",
       "3                  The JV Club Ep. 359: Jamie Loftus  \n",
       "4  Switchblade Sisters Episode 116: ‘Bunny Lake I...  "
      ]
     },
     "execution_count": 28,
     "metadata": {},
     "output_type": "execute_result"
    }
   ],
   "source": [
    "# Checking the datafram \n",
    "max_fun_submissions.head()"
   ]
  },
  {
   "cell_type": "code",
   "execution_count": 29,
   "metadata": {},
   "outputs": [],
   "source": [
    "# Setting a column for type = submission \n",
    "max_fun_submissions['type'] = 'submission'"
   ]
  },
  {
   "cell_type": "code",
   "execution_count": 30,
   "metadata": {},
   "outputs": [],
   "source": [
    "# Dropping any duplicates comments\n",
    "gimlet_comments = gimlet_comments.drop_duplicates()\n",
    "gimlet_submissions = gimlet_submissions.drop_duplicates()\n",
    "max_fun_comments = max_fun_comments.drop_duplicates()\n",
    "max_fun_submissions = max_fun_submissions.drop_duplicates()"
   ]
  },
  {
   "cell_type": "code",
   "execution_count": 31,
   "metadata": {},
   "outputs": [
    {
     "data": {
      "text/plain": [
       "author         0\n",
       "body           0\n",
       "created_utc    0\n",
       "subreddit      0\n",
       "type           0\n",
       "dtype: int64"
      ]
     },
     "execution_count": 31,
     "metadata": {},
     "output_type": "execute_result"
    }
   ],
   "source": [
    "# Checking for nulls \n",
    "gimlet_comments.isnull().sum()"
   ]
  },
  {
   "cell_type": "code",
   "execution_count": 32,
   "metadata": {},
   "outputs": [
    {
     "data": {
      "text/plain": [
       "author            0\n",
       "created_utc       0\n",
       "selftext       1647\n",
       "subreddit         0\n",
       "title             0\n",
       "type              0\n",
       "dtype: int64"
      ]
     },
     "execution_count": 32,
     "metadata": {},
     "output_type": "execute_result"
    }
   ],
   "source": [
    "# Checking for nulls \n",
    "gimlet_submissions.isnull().sum()"
   ]
  },
  {
   "cell_type": "code",
   "execution_count": 33,
   "metadata": {},
   "outputs": [
    {
     "data": {
      "text/plain": [
       "author         0\n",
       "body           0\n",
       "created_utc    0\n",
       "subreddit      0\n",
       "type           0\n",
       "dtype: int64"
      ]
     },
     "execution_count": 33,
     "metadata": {},
     "output_type": "execute_result"
    }
   ],
   "source": [
    "# Checking for nulls \n",
    "max_fun_comments.isnull().sum()"
   ]
  },
  {
   "cell_type": "code",
   "execution_count": 34,
   "metadata": {},
   "outputs": [
    {
     "data": {
      "text/plain": [
       "author            0\n",
       "created_utc       0\n",
       "selftext       2055\n",
       "subreddit         0\n",
       "title             0\n",
       "type              0\n",
       "dtype: int64"
      ]
     },
     "execution_count": 34,
     "metadata": {},
     "output_type": "execute_result"
    }
   ],
   "source": [
    "# Checking for nulls \n",
    "max_fun_submissions.isnull().sum()"
   ]
  },
  {
   "cell_type": "code",
   "execution_count": 35,
   "metadata": {},
   "outputs": [],
   "source": [
    "# Concatenating the data frames \n",
    "reddits = pd.concat([gimlet_comments, gimlet_submissions, max_fun_comments, max_fun_submissions], sort=True, ignore_index=True)"
   ]
  },
  {
   "cell_type": "code",
   "execution_count": 36,
   "metadata": {},
   "outputs": [
    {
     "data": {
      "text/plain": [
       "(29998, 7)"
      ]
     },
     "execution_count": 36,
     "metadata": {},
     "output_type": "execute_result"
    }
   ],
   "source": [
    "# Checking the shape of the new dataframe\n",
    "reddits.shape"
   ]
  },
  {
   "cell_type": "code",
   "execution_count": 37,
   "metadata": {},
   "outputs": [
    {
     "data": {
      "text/html": [
       "<div>\n",
       "<style scoped>\n",
       "    .dataframe tbody tr th:only-of-type {\n",
       "        vertical-align: middle;\n",
       "    }\n",
       "\n",
       "    .dataframe tbody tr th {\n",
       "        vertical-align: top;\n",
       "    }\n",
       "\n",
       "    .dataframe thead th {\n",
       "        text-align: right;\n",
       "    }\n",
       "</style>\n",
       "<table border=\"1\" class=\"dataframe\">\n",
       "  <thead>\n",
       "    <tr style=\"text-align: right;\">\n",
       "      <th></th>\n",
       "      <th>author</th>\n",
       "      <th>body</th>\n",
       "      <th>created_utc</th>\n",
       "      <th>selftext</th>\n",
       "      <th>subreddit</th>\n",
       "      <th>title</th>\n",
       "      <th>type</th>\n",
       "    </tr>\n",
       "  </thead>\n",
       "  <tbody>\n",
       "    <tr>\n",
       "      <th>0</th>\n",
       "      <td>CubeLifeDeskJob</td>\n",
       "      <td>She didn't mention this when I asked her.  She...</td>\n",
       "      <td>1553281124</td>\n",
       "      <td>NaN</td>\n",
       "      <td>gimlet</td>\n",
       "      <td>NaN</td>\n",
       "      <td>comment</td>\n",
       "    </tr>\n",
       "    <tr>\n",
       "      <th>1</th>\n",
       "      <td>CubeLifeDeskJob</td>\n",
       "      <td>I mean, I was, but not for the sole purpose of...</td>\n",
       "      <td>1553280963</td>\n",
       "      <td>NaN</td>\n",
       "      <td>gimlet</td>\n",
       "      <td>NaN</td>\n",
       "      <td>comment</td>\n",
       "    </tr>\n",
       "    <tr>\n",
       "      <th>2</th>\n",
       "      <td>heimmrich</td>\n",
       "      <td>Hardly. The best talent around in podcast has ...</td>\n",
       "      <td>1553280896</td>\n",
       "      <td>NaN</td>\n",
       "      <td>gimlet</td>\n",
       "      <td>NaN</td>\n",
       "      <td>comment</td>\n",
       "    </tr>\n",
       "    <tr>\n",
       "      <th>3</th>\n",
       "      <td>heimmrich</td>\n",
       "      <td>She can't do season 2 because gimlet owns the ...</td>\n",
       "      <td>1553280716</td>\n",
       "      <td>NaN</td>\n",
       "      <td>gimlet</td>\n",
       "      <td>NaN</td>\n",
       "      <td>comment</td>\n",
       "    </tr>\n",
       "    <tr>\n",
       "      <th>4</th>\n",
       "      <td>Subalpine</td>\n",
       "      <td>Search Party. really excellent and critically ...</td>\n",
       "      <td>1553280571</td>\n",
       "      <td>NaN</td>\n",
       "      <td>gimlet</td>\n",
       "      <td>NaN</td>\n",
       "      <td>comment</td>\n",
       "    </tr>\n",
       "  </tbody>\n",
       "</table>\n",
       "</div>"
      ],
      "text/plain": [
       "            author                                               body  \\\n",
       "0  CubeLifeDeskJob  She didn't mention this when I asked her.  She...   \n",
       "1  CubeLifeDeskJob  I mean, I was, but not for the sole purpose of...   \n",
       "2        heimmrich  Hardly. The best talent around in podcast has ...   \n",
       "3        heimmrich  She can't do season 2 because gimlet owns the ...   \n",
       "4        Subalpine  Search Party. really excellent and critically ...   \n",
       "\n",
       "   created_utc selftext subreddit title     type  \n",
       "0   1553281124      NaN    gimlet   NaN  comment  \n",
       "1   1553280963      NaN    gimlet   NaN  comment  \n",
       "2   1553280896      NaN    gimlet   NaN  comment  \n",
       "3   1553280716      NaN    gimlet   NaN  comment  \n",
       "4   1553280571      NaN    gimlet   NaN  comment  "
      ]
     },
     "execution_count": 37,
     "metadata": {},
     "output_type": "execute_result"
    }
   ],
   "source": [
    "# Checking out the new dataframe \n",
    "reddits.head()"
   ]
  },
  {
   "cell_type": "code",
   "execution_count": 38,
   "metadata": {},
   "outputs": [],
   "source": [
    "# setting the order of the columns to one that seems logical\n",
    "reddits = reddits[['subreddit', 'type', 'author', 'title', 'body', 'selftext', 'created_utc']]"
   ]
  },
  {
   "cell_type": "code",
   "execution_count": 39,
   "metadata": {},
   "outputs": [
    {
     "data": {
      "text/html": [
       "<div>\n",
       "<style scoped>\n",
       "    .dataframe tbody tr th:only-of-type {\n",
       "        vertical-align: middle;\n",
       "    }\n",
       "\n",
       "    .dataframe tbody tr th {\n",
       "        vertical-align: top;\n",
       "    }\n",
       "\n",
       "    .dataframe thead th {\n",
       "        text-align: right;\n",
       "    }\n",
       "</style>\n",
       "<table border=\"1\" class=\"dataframe\">\n",
       "  <thead>\n",
       "    <tr style=\"text-align: right;\">\n",
       "      <th></th>\n",
       "      <th>subreddit</th>\n",
       "      <th>type</th>\n",
       "      <th>author</th>\n",
       "      <th>title</th>\n",
       "      <th>body</th>\n",
       "      <th>selftext</th>\n",
       "      <th>created_utc</th>\n",
       "    </tr>\n",
       "  </thead>\n",
       "  <tbody>\n",
       "    <tr>\n",
       "      <th>0</th>\n",
       "      <td>gimlet</td>\n",
       "      <td>comment</td>\n",
       "      <td>CubeLifeDeskJob</td>\n",
       "      <td>NaN</td>\n",
       "      <td>She didn't mention this when I asked her.  She...</td>\n",
       "      <td>NaN</td>\n",
       "      <td>1553281124</td>\n",
       "    </tr>\n",
       "    <tr>\n",
       "      <th>1</th>\n",
       "      <td>gimlet</td>\n",
       "      <td>comment</td>\n",
       "      <td>CubeLifeDeskJob</td>\n",
       "      <td>NaN</td>\n",
       "      <td>I mean, I was, but not for the sole purpose of...</td>\n",
       "      <td>NaN</td>\n",
       "      <td>1553280963</td>\n",
       "    </tr>\n",
       "    <tr>\n",
       "      <th>2</th>\n",
       "      <td>gimlet</td>\n",
       "      <td>comment</td>\n",
       "      <td>heimmrich</td>\n",
       "      <td>NaN</td>\n",
       "      <td>Hardly. The best talent around in podcast has ...</td>\n",
       "      <td>NaN</td>\n",
       "      <td>1553280896</td>\n",
       "    </tr>\n",
       "    <tr>\n",
       "      <th>3</th>\n",
       "      <td>gimlet</td>\n",
       "      <td>comment</td>\n",
       "      <td>heimmrich</td>\n",
       "      <td>NaN</td>\n",
       "      <td>She can't do season 2 because gimlet owns the ...</td>\n",
       "      <td>NaN</td>\n",
       "      <td>1553280716</td>\n",
       "    </tr>\n",
       "    <tr>\n",
       "      <th>4</th>\n",
       "      <td>gimlet</td>\n",
       "      <td>comment</td>\n",
       "      <td>Subalpine</td>\n",
       "      <td>NaN</td>\n",
       "      <td>Search Party. really excellent and critically ...</td>\n",
       "      <td>NaN</td>\n",
       "      <td>1553280571</td>\n",
       "    </tr>\n",
       "  </tbody>\n",
       "</table>\n",
       "</div>"
      ],
      "text/plain": [
       "  subreddit     type           author title  \\\n",
       "0    gimlet  comment  CubeLifeDeskJob   NaN   \n",
       "1    gimlet  comment  CubeLifeDeskJob   NaN   \n",
       "2    gimlet  comment        heimmrich   NaN   \n",
       "3    gimlet  comment        heimmrich   NaN   \n",
       "4    gimlet  comment        Subalpine   NaN   \n",
       "\n",
       "                                                body selftext  created_utc  \n",
       "0  She didn't mention this when I asked her.  She...      NaN   1553281124  \n",
       "1  I mean, I was, but not for the sole purpose of...      NaN   1553280963  \n",
       "2  Hardly. The best talent around in podcast has ...      NaN   1553280896  \n",
       "3  She can't do season 2 because gimlet owns the ...      NaN   1553280716  \n",
       "4  Search Party. really excellent and critically ...      NaN   1553280571  "
      ]
     },
     "execution_count": 39,
     "metadata": {},
     "output_type": "execute_result"
    }
   ],
   "source": [
    "# Checking out the dataframe\n",
    "reddits.head()"
   ]
  },
  {
   "cell_type": "code",
   "execution_count": 40,
   "metadata": {},
   "outputs": [],
   "source": [
    "# Filling in the NaN values with an underscore because I didn't want to use a number or a word\n",
    "reddits.fillna('_', inplace=True)"
   ]
  },
  {
   "cell_type": "code",
   "execution_count": 41,
   "metadata": {},
   "outputs": [
    {
     "data": {
      "text/html": [
       "<div>\n",
       "<style scoped>\n",
       "    .dataframe tbody tr th:only-of-type {\n",
       "        vertical-align: middle;\n",
       "    }\n",
       "\n",
       "    .dataframe tbody tr th {\n",
       "        vertical-align: top;\n",
       "    }\n",
       "\n",
       "    .dataframe thead th {\n",
       "        text-align: right;\n",
       "    }\n",
       "</style>\n",
       "<table border=\"1\" class=\"dataframe\">\n",
       "  <thead>\n",
       "    <tr style=\"text-align: right;\">\n",
       "      <th></th>\n",
       "      <th>subreddit</th>\n",
       "      <th>type</th>\n",
       "      <th>author</th>\n",
       "      <th>title</th>\n",
       "      <th>body</th>\n",
       "      <th>selftext</th>\n",
       "      <th>created_utc</th>\n",
       "    </tr>\n",
       "  </thead>\n",
       "  <tbody>\n",
       "    <tr>\n",
       "      <th>0</th>\n",
       "      <td>gimlet</td>\n",
       "      <td>comment</td>\n",
       "      <td>CubeLifeDeskJob</td>\n",
       "      <td>_</td>\n",
       "      <td>She didn't mention this when I asked her.  She...</td>\n",
       "      <td>_</td>\n",
       "      <td>1553281124</td>\n",
       "    </tr>\n",
       "    <tr>\n",
       "      <th>1</th>\n",
       "      <td>gimlet</td>\n",
       "      <td>comment</td>\n",
       "      <td>CubeLifeDeskJob</td>\n",
       "      <td>_</td>\n",
       "      <td>I mean, I was, but not for the sole purpose of...</td>\n",
       "      <td>_</td>\n",
       "      <td>1553280963</td>\n",
       "    </tr>\n",
       "    <tr>\n",
       "      <th>2</th>\n",
       "      <td>gimlet</td>\n",
       "      <td>comment</td>\n",
       "      <td>heimmrich</td>\n",
       "      <td>_</td>\n",
       "      <td>Hardly. The best talent around in podcast has ...</td>\n",
       "      <td>_</td>\n",
       "      <td>1553280896</td>\n",
       "    </tr>\n",
       "    <tr>\n",
       "      <th>3</th>\n",
       "      <td>gimlet</td>\n",
       "      <td>comment</td>\n",
       "      <td>heimmrich</td>\n",
       "      <td>_</td>\n",
       "      <td>She can't do season 2 because gimlet owns the ...</td>\n",
       "      <td>_</td>\n",
       "      <td>1553280716</td>\n",
       "    </tr>\n",
       "    <tr>\n",
       "      <th>4</th>\n",
       "      <td>gimlet</td>\n",
       "      <td>comment</td>\n",
       "      <td>Subalpine</td>\n",
       "      <td>_</td>\n",
       "      <td>Search Party. really excellent and critically ...</td>\n",
       "      <td>_</td>\n",
       "      <td>1553280571</td>\n",
       "    </tr>\n",
       "  </tbody>\n",
       "</table>\n",
       "</div>"
      ],
      "text/plain": [
       "  subreddit     type           author title  \\\n",
       "0    gimlet  comment  CubeLifeDeskJob     _   \n",
       "1    gimlet  comment  CubeLifeDeskJob     _   \n",
       "2    gimlet  comment        heimmrich     _   \n",
       "3    gimlet  comment        heimmrich     _   \n",
       "4    gimlet  comment        Subalpine     _   \n",
       "\n",
       "                                                body selftext  created_utc  \n",
       "0  She didn't mention this when I asked her.  She...        _   1553281124  \n",
       "1  I mean, I was, but not for the sole purpose of...        _   1553280963  \n",
       "2  Hardly. The best talent around in podcast has ...        _   1553280896  \n",
       "3  She can't do season 2 because gimlet owns the ...        _   1553280716  \n",
       "4  Search Party. really excellent and critically ...        _   1553280571  "
      ]
     },
     "execution_count": 41,
     "metadata": {},
     "output_type": "execute_result"
    }
   ],
   "source": [
    "# Looking at the new dataframe to see what it looks like \n",
    "reddits.head()"
   ]
  },
  {
   "cell_type": "code",
   "execution_count": 42,
   "metadata": {},
   "outputs": [
    {
     "data": {
      "text/plain": [
       "<matplotlib.axes._subplots.AxesSubplot at 0x1169567d0>"
      ]
     },
     "execution_count": 42,
     "metadata": {},
     "output_type": "execute_result"
    },
    {
     "data": {
      "image/png": "[encoded data removed]",
      "text/plain": [
       "<Figure size 432x288 with 1 Axes>"
      ]
     },
     "metadata": {
      "needs_background": "light"
     },
     "output_type": "display_data"
    }
   ],
   "source": [
    "# Looking at the distribution of the comments by time. I want to cut out the ones that are older submissions\n",
    "# that don't match the time for the comments. I assume this will be better for analysis because the subject\n",
    "# matter will change over time. \n",
    "reddits[['created_utc']].plot(kind='hist')"
   ]
  },
  {
   "cell_type": "code",
   "execution_count": 43,
   "metadata": {},
   "outputs": [
    {
     "data": {
      "text/html": [
       "<div>\n",
       "<style scoped>\n",
       "    .dataframe tbody tr th:only-of-type {\n",
       "        vertical-align: middle;\n",
       "    }\n",
       "\n",
       "    .dataframe tbody tr th {\n",
       "        vertical-align: top;\n",
       "    }\n",
       "\n",
       "    .dataframe thead th {\n",
       "        text-align: right;\n",
       "    }\n",
       "</style>\n",
       "<table border=\"1\" class=\"dataframe\">\n",
       "  <thead>\n",
       "    <tr style=\"text-align: right;\">\n",
       "      <th></th>\n",
       "      <th>created_utc</th>\n",
       "    </tr>\n",
       "  </thead>\n",
       "  <tbody>\n",
       "    <tr>\n",
       "      <th>count</th>\n",
       "      <td>2.999800e+04</td>\n",
       "    </tr>\n",
       "    <tr>\n",
       "      <th>mean</th>\n",
       "      <td>1.556461e+09</td>\n",
       "    </tr>\n",
       "    <tr>\n",
       "      <th>std</th>\n",
       "      <td>1.657530e+07</td>\n",
       "    </tr>\n",
       "    <tr>\n",
       "      <th>min</th>\n",
       "      <td>1.465513e+09</td>\n",
       "    </tr>\n",
       "    <tr>\n",
       "      <th>25%</th>\n",
       "      <td>1.549126e+09</td>\n",
       "    </tr>\n",
       "    <tr>\n",
       "      <th>50%</th>\n",
       "      <td>1.556251e+09</td>\n",
       "    </tr>\n",
       "    <tr>\n",
       "      <th>75%</th>\n",
       "      <td>1.568562e+09</td>\n",
       "    </tr>\n",
       "    <tr>\n",
       "      <th>max</th>\n",
       "      <td>1.579987e+09</td>\n",
       "    </tr>\n",
       "  </tbody>\n",
       "</table>\n",
       "</div>"
      ],
      "text/plain": [
       "        created_utc\n",
       "count  2.999800e+04\n",
       "mean   1.556461e+09\n",
       "std    1.657530e+07\n",
       "min    1.465513e+09\n",
       "25%    1.549126e+09\n",
       "50%    1.556251e+09\n",
       "75%    1.568562e+09\n",
       "max    1.579987e+09"
      ]
     },
     "execution_count": 43,
     "metadata": {},
     "output_type": "execute_result"
    }
   ],
   "source": [
    "# Looking at the distribution of the comments to see where the cut-off should be \n",
    "reddits[['created_utc']].describe()"
   ]
  },
  {
   "cell_type": "code",
   "execution_count": 44,
   "metadata": {},
   "outputs": [],
   "source": [
    "# I picked this UTC as the cut-off because it would give me reddits within the same time period\n",
    "reddits = reddits[reddits['created_utc'] > 1540516000]"
   ]
  },
  {
   "cell_type": "code",
   "execution_count": 42,
   "metadata": {},
   "outputs": [
    {
     "data": {
      "text/plain": [
       "(28012, 7)"
      ]
     },
     "execution_count": 42,
     "metadata": {},
     "output_type": "execute_result"
    }
   ],
   "source": [
    "# Lookin at the shape to see how many were kept. I think this is a sufficient amount for modeling. \n",
    "reddits.shape"
   ]
  },
  {
   "cell_type": "code",
   "execution_count": 46,
   "metadata": {},
   "outputs": [
    {
     "data": {
      "text/plain": [
       "maximumfun    14505\n",
       "gimlet        13507\n",
       "Name: subreddit, dtype: int64"
      ]
     },
     "execution_count": 46,
     "metadata": {},
     "output_type": "execute_result"
    }
   ],
   "source": [
    "# Looking to see how many I have from each subreddit. It is not completely even, but it's close\n",
    "# I have 51.7% from maximumfun and 48.2% from gimlet \n",
    "reddits['subreddit'].value_counts()"
   ]
  },
  {
   "cell_type": "code",
   "execution_count": 44,
   "metadata": {},
   "outputs": [
    {
     "data": {
      "text/plain": [
       "<matplotlib.axes._subplots.AxesSubplot at 0x1201b1610>"
      ]
     },
     "execution_count": 44,
     "metadata": {},
     "output_type": "execute_result"
    },
    {
     "data": {
      "image/png": "[encoded data removed]",
      "text/plain": [
       "<Figure size 432x288 with 1 Axes>"
      ]
     },
     "metadata": {
      "needs_background": "light"
     },
     "output_type": "display_data"
    }
   ],
   "source": [
    "# This is a more even distribution over time \n",
    "reddits[['created_utc']].plot(kind='hist')"
   ]
  },
  {
   "cell_type": "code",
   "execution_count": 47,
   "metadata": {},
   "outputs": [
    {
     "data": {
      "text/plain": [
       "created_utc    1540527256\n",
       "dtype: int64"
      ]
     },
     "execution_count": 47,
     "metadata": {},
     "output_type": "execute_result"
    }
   ],
   "source": [
    "# The UTC corresponds to Friday, October 26, 2018 4:14:16 AM\n",
    "reddits[['created_utc']].min()"
   ]
  },
  {
   "cell_type": "code",
   "execution_count": 46,
   "metadata": {},
   "outputs": [
    {
     "data": {
      "text/plain": [
       "created_utc    1579986947\n",
       "dtype: int64"
      ]
     },
     "execution_count": 46,
     "metadata": {},
     "output_type": "execute_result"
    }
   ],
   "source": [
    "# This UTC is Saturday, January 25, 2020 9:15:47 PM, which is the most recent, and when I started collecting\n",
    "# data \n",
    "reddits[['created_utc']].max()"
   ]
  },
  {
   "cell_type": "code",
   "execution_count": 47,
   "metadata": {},
   "outputs": [
    {
     "data": {
      "text/plain": [
       "comment       24998\n",
       "submission     3014\n",
       "Name: type, dtype: int64"
      ]
     },
     "execution_count": 47,
     "metadata": {},
     "output_type": "execute_result"
    }
   ],
   "source": [
    "# Looking at my value counts for comment vs submission, and I have far more comments than submissions \n",
    "reddits['type'].value_counts()"
   ]
  },
  {
   "cell_type": "code",
   "execution_count": 48,
   "metadata": {},
   "outputs": [],
   "source": [
    "# sorting values by UTC\n",
    "reddits = reddits.sort_values(by='created_utc')"
   ]
  },
  {
   "cell_type": "code",
   "execution_count": 49,
   "metadata": {},
   "outputs": [
    {
     "data": {
      "text/html": [
       "<div>\n",
       "<style scoped>\n",
       "    .dataframe tbody tr th:only-of-type {\n",
       "        vertical-align: middle;\n",
       "    }\n",
       "\n",
       "    .dataframe tbody tr th {\n",
       "        vertical-align: top;\n",
       "    }\n",
       "\n",
       "    .dataframe thead th {\n",
       "        text-align: right;\n",
       "    }\n",
       "</style>\n",
       "<table border=\"1\" class=\"dataframe\">\n",
       "  <thead>\n",
       "    <tr style=\"text-align: right;\">\n",
       "      <th></th>\n",
       "      <th>subreddit</th>\n",
       "      <th>type</th>\n",
       "      <th>author</th>\n",
       "      <th>title</th>\n",
       "      <th>body</th>\n",
       "      <th>selftext</th>\n",
       "      <th>created_utc</th>\n",
       "    </tr>\n",
       "  </thead>\n",
       "  <tbody>\n",
       "    <tr>\n",
       "      <th>29503</th>\n",
       "      <td>maximumfun</td>\n",
       "      <td>submission</td>\n",
       "      <td>King_Mort</td>\n",
       "      <td>Tights and Fights Ep. 114: Thank you, Roman</td>\n",
       "      <td>_</td>\n",
       "      <td>_</td>\n",
       "      <td>1540527256</td>\n",
       "    </tr>\n",
       "    <tr>\n",
       "      <th>13506</th>\n",
       "      <td>gimlet</td>\n",
       "      <td>submission</td>\n",
       "      <td>Gimleteer</td>\n",
       "      <td>StartUp - Making a TV Series 2: Santa's Hollyw...</td>\n",
       "      <td>_</td>\n",
       "      <td>_</td>\n",
       "      <td>1540530008</td>\n",
       "    </tr>\n",
       "    <tr>\n",
       "      <th>29502</th>\n",
       "      <td>maximumfun</td>\n",
       "      <td>submission</td>\n",
       "      <td>Currymango</td>\n",
       "      <td>April Wolfe's Switchblade Sisters Episode 51: ...</td>\n",
       "      <td>_</td>\n",
       "      <td>_</td>\n",
       "      <td>1540597457</td>\n",
       "    </tr>\n",
       "    <tr>\n",
       "      <th>29501</th>\n",
       "      <td>maximumfun</td>\n",
       "      <td>submission</td>\n",
       "      <td>Currymango</td>\n",
       "      <td>Who Shot Ya? Episode 60: Trick AND Treat: The ...</td>\n",
       "      <td>_</td>\n",
       "      <td>_</td>\n",
       "      <td>1540597487</td>\n",
       "    </tr>\n",
       "    <tr>\n",
       "      <th>29500</th>\n",
       "      <td>maximumfun</td>\n",
       "      <td>submission</td>\n",
       "      <td>apathymonger</td>\n",
       "      <td>The Flop House #269 – Friend Request</td>\n",
       "      <td>_</td>\n",
       "      <td>_</td>\n",
       "      <td>1540644451</td>\n",
       "    </tr>\n",
       "  </tbody>\n",
       "</table>\n",
       "</div>"
      ],
      "text/plain": [
       "        subreddit        type        author  \\\n",
       "29503  maximumfun  submission     King_Mort   \n",
       "13506      gimlet  submission     Gimleteer   \n",
       "29502  maximumfun  submission    Currymango   \n",
       "29501  maximumfun  submission    Currymango   \n",
       "29500  maximumfun  submission  apathymonger   \n",
       "\n",
       "                                                   title body selftext  \\\n",
       "29503        Tights and Fights Ep. 114: Thank you, Roman    _        _   \n",
       "13506  StartUp - Making a TV Series 2: Santa's Hollyw...    _        _   \n",
       "29502  April Wolfe's Switchblade Sisters Episode 51: ...    _        _   \n",
       "29501  Who Shot Ya? Episode 60: Trick AND Treat: The ...    _        _   \n",
       "29500               The Flop House #269 – Friend Request    _        _   \n",
       "\n",
       "       created_utc  \n",
       "29503   1540527256  \n",
       "13506   1540530008  \n",
       "29502   1540597457  \n",
       "29501   1540597487  \n",
       "29500   1540644451  "
      ]
     },
     "execution_count": 49,
     "metadata": {},
     "output_type": "execute_result"
    }
   ],
   "source": [
    "# Looking at the results\n",
    "reddits.head()"
   ]
  },
  {
   "cell_type": "code",
   "execution_count": 50,
   "metadata": {},
   "outputs": [],
   "source": [
    "# Reseting the index \n",
    "reddits = reddits.reset_index(drop=True)"
   ]
  },
  {
   "cell_type": "code",
   "execution_count": 51,
   "metadata": {},
   "outputs": [
    {
     "data": {
      "text/html": [
       "<div>\n",
       "<style scoped>\n",
       "    .dataframe tbody tr th:only-of-type {\n",
       "        vertical-align: middle;\n",
       "    }\n",
       "\n",
       "    .dataframe tbody tr th {\n",
       "        vertical-align: top;\n",
       "    }\n",
       "\n",
       "    .dataframe thead th {\n",
       "        text-align: right;\n",
       "    }\n",
       "</style>\n",
       "<table border=\"1\" class=\"dataframe\">\n",
       "  <thead>\n",
       "    <tr style=\"text-align: right;\">\n",
       "      <th></th>\n",
       "      <th>subreddit</th>\n",
       "      <th>type</th>\n",
       "      <th>author</th>\n",
       "      <th>title</th>\n",
       "      <th>body</th>\n",
       "      <th>selftext</th>\n",
       "      <th>created_utc</th>\n",
       "    </tr>\n",
       "  </thead>\n",
       "  <tbody>\n",
       "    <tr>\n",
       "      <th>0</th>\n",
       "      <td>maximumfun</td>\n",
       "      <td>submission</td>\n",
       "      <td>King_Mort</td>\n",
       "      <td>Tights and Fights Ep. 114: Thank you, Roman</td>\n",
       "      <td>_</td>\n",
       "      <td>_</td>\n",
       "      <td>1540527256</td>\n",
       "    </tr>\n",
       "    <tr>\n",
       "      <th>1</th>\n",
       "      <td>gimlet</td>\n",
       "      <td>submission</td>\n",
       "      <td>Gimleteer</td>\n",
       "      <td>StartUp - Making a TV Series 2: Santa's Hollyw...</td>\n",
       "      <td>_</td>\n",
       "      <td>_</td>\n",
       "      <td>1540530008</td>\n",
       "    </tr>\n",
       "    <tr>\n",
       "      <th>2</th>\n",
       "      <td>maximumfun</td>\n",
       "      <td>submission</td>\n",
       "      <td>Currymango</td>\n",
       "      <td>April Wolfe's Switchblade Sisters Episode 51: ...</td>\n",
       "      <td>_</td>\n",
       "      <td>_</td>\n",
       "      <td>1540597457</td>\n",
       "    </tr>\n",
       "    <tr>\n",
       "      <th>3</th>\n",
       "      <td>maximumfun</td>\n",
       "      <td>submission</td>\n",
       "      <td>Currymango</td>\n",
       "      <td>Who Shot Ya? Episode 60: Trick AND Treat: The ...</td>\n",
       "      <td>_</td>\n",
       "      <td>_</td>\n",
       "      <td>1540597487</td>\n",
       "    </tr>\n",
       "    <tr>\n",
       "      <th>4</th>\n",
       "      <td>maximumfun</td>\n",
       "      <td>submission</td>\n",
       "      <td>apathymonger</td>\n",
       "      <td>The Flop House #269 – Friend Request</td>\n",
       "      <td>_</td>\n",
       "      <td>_</td>\n",
       "      <td>1540644451</td>\n",
       "    </tr>\n",
       "  </tbody>\n",
       "</table>\n",
       "</div>"
      ],
      "text/plain": [
       "    subreddit        type        author  \\\n",
       "0  maximumfun  submission     King_Mort   \n",
       "1      gimlet  submission     Gimleteer   \n",
       "2  maximumfun  submission    Currymango   \n",
       "3  maximumfun  submission    Currymango   \n",
       "4  maximumfun  submission  apathymonger   \n",
       "\n",
       "                                               title body selftext  \\\n",
       "0        Tights and Fights Ep. 114: Thank you, Roman    _        _   \n",
       "1  StartUp - Making a TV Series 2: Santa's Hollyw...    _        _   \n",
       "2  April Wolfe's Switchblade Sisters Episode 51: ...    _        _   \n",
       "3  Who Shot Ya? Episode 60: Trick AND Treat: The ...    _        _   \n",
       "4               The Flop House #269 – Friend Request    _        _   \n",
       "\n",
       "   created_utc  \n",
       "0   1540527256  \n",
       "1   1540530008  \n",
       "2   1540597457  \n",
       "3   1540597487  \n",
       "4   1540644451  "
      ]
     },
     "execution_count": 51,
     "metadata": {},
     "output_type": "execute_result"
    }
   ],
   "source": [
    "# Checking out the results \n",
    "reddits.head()"
   ]
  },
  {
   "cell_type": "code",
   "execution_count": 52,
   "metadata": {},
   "outputs": [
    {
     "data": {
      "text/html": [
       "<div>\n",
       "<style scoped>\n",
       "    .dataframe tbody tr th:only-of-type {\n",
       "        vertical-align: middle;\n",
       "    }\n",
       "\n",
       "    .dataframe tbody tr th {\n",
       "        vertical-align: top;\n",
       "    }\n",
       "\n",
       "    .dataframe thead th {\n",
       "        text-align: right;\n",
       "    }\n",
       "</style>\n",
       "<table border=\"1\" class=\"dataframe\">\n",
       "  <thead>\n",
       "    <tr style=\"text-align: right;\">\n",
       "      <th></th>\n",
       "      <th></th>\n",
       "      <th>author</th>\n",
       "      <th>title</th>\n",
       "      <th>body</th>\n",
       "      <th>selftext</th>\n",
       "      <th>created_utc</th>\n",
       "    </tr>\n",
       "    <tr>\n",
       "      <th>subreddit</th>\n",
       "      <th>type</th>\n",
       "      <th></th>\n",
       "      <th></th>\n",
       "      <th></th>\n",
       "      <th></th>\n",
       "      <th></th>\n",
       "    </tr>\n",
       "  </thead>\n",
       "  <tbody>\n",
       "    <tr>\n",
       "      <th rowspan=\"2\" valign=\"top\">gimlet</th>\n",
       "      <th>comment</th>\n",
       "      <td>12499</td>\n",
       "      <td>12499</td>\n",
       "      <td>12499</td>\n",
       "      <td>12499</td>\n",
       "      <td>12499</td>\n",
       "    </tr>\n",
       "    <tr>\n",
       "      <th>submission</th>\n",
       "      <td>1008</td>\n",
       "      <td>1008</td>\n",
       "      <td>1008</td>\n",
       "      <td>1008</td>\n",
       "      <td>1008</td>\n",
       "    </tr>\n",
       "    <tr>\n",
       "      <th rowspan=\"2\" valign=\"top\">maximumfun</th>\n",
       "      <th>comment</th>\n",
       "      <td>12499</td>\n",
       "      <td>12499</td>\n",
       "      <td>12499</td>\n",
       "      <td>12499</td>\n",
       "      <td>12499</td>\n",
       "    </tr>\n",
       "    <tr>\n",
       "      <th>submission</th>\n",
       "      <td>2006</td>\n",
       "      <td>2006</td>\n",
       "      <td>2006</td>\n",
       "      <td>2006</td>\n",
       "      <td>2006</td>\n",
       "    </tr>\n",
       "  </tbody>\n",
       "</table>\n",
       "</div>"
      ],
      "text/plain": [
       "                       author  title   body  selftext  created_utc\n",
       "subreddit  type                                                   \n",
       "gimlet     comment      12499  12499  12499     12499        12499\n",
       "           submission    1008   1008   1008      1008         1008\n",
       "maximumfun comment      12499  12499  12499     12499        12499\n",
       "           submission    2006   2006   2006      2006         2006"
      ]
     },
     "execution_count": 52,
     "metadata": {},
     "output_type": "execute_result"
    }
   ],
   "source": [
    "# Looking at how many comments and submissions I have for each subreddit \n",
    "reddits.groupby(['subreddit', 'type']).count()"
   ]
  },
  {
   "cell_type": "code",
   "execution_count": 53,
   "metadata": {},
   "outputs": [
    {
     "data": {
      "text/plain": [
       "maximumfun    0.517814\n",
       "gimlet        0.482186\n",
       "Name: subreddit, dtype: float64"
      ]
     },
     "execution_count": 53,
     "metadata": {},
     "output_type": "execute_result"
    }
   ],
   "source": [
    "# Looking at what percentage I have of each type \n",
    "reddits['subreddit'].value_counts('type')"
   ]
  },
  {
   "cell_type": "code",
   "execution_count": 54,
   "metadata": {},
   "outputs": [
    {
     "name": "stdout",
     "output_type": "stream",
     "text": [
      "<class 'pandas.core.frame.DataFrame'>\n",
      "RangeIndex: 28012 entries, 0 to 28011\n",
      "Data columns (total 7 columns):\n",
      "subreddit      28012 non-null object\n",
      "type           28012 non-null object\n",
      "author         28012 non-null object\n",
      "title          28012 non-null object\n",
      "body           28012 non-null object\n",
      "selftext       28012 non-null object\n",
      "created_utc    28012 non-null int64\n",
      "dtypes: int64(1), object(6)\n",
      "memory usage: 1.5+ MB\n"
     ]
    }
   ],
   "source": [
    "# Looking at the data types and other info\n",
    "reddits.info()"
   ]
  },
  {
   "cell_type": "code",
   "execution_count": 55,
   "metadata": {},
   "outputs": [
    {
     "data": {
      "text/plain": [
       "kplaysbass              659\n",
       "apathymonger            590\n",
       "Currymango              575\n",
       "thesupermikey           531\n",
       "Gimleteer               447\n",
       "JesseThorn              347\n",
       "jeremyfrankly           297\n",
       "HunterJE                267\n",
       "dragon32xing            255\n",
       "SchulzBuster            239\n",
       "CozyAmigo               231\n",
       "[deleted]               225\n",
       "SaddestClown            185\n",
       "El_Seven                173\n",
       "lawjr3                  162\n",
       "CWHats                  111\n",
       "SlowKing1997            109\n",
       "DrColossusOfRhodes       98\n",
       "forg9587                 96\n",
       "bomblol                  91\n",
       "ClockOfTheLongNow        90\n",
       "CubeLifeDeskJob          86\n",
       "KidsDrDave               85\n",
       "Jordan_Morris            84\n",
       "kingofblackacid          84\n",
       "PrankBear                84\n",
       "PM_ME_MICHAEL_STIPE      82\n",
       "baldnotes                82\n",
       "King_Mort                80\n",
       "boundfortrees            79\n",
       "tbotcotw                 75\n",
       "a_brianstorm             74\n",
       "rufus418                 74\n",
       "DimlightHero             71\n",
       "ThinWhiteRogue           71\n",
       "hsalfesrever             69\n",
       "ZeGoldMedal              68\n",
       "real_cool_club           66\n",
       "AutoModerator            64\n",
       "fartmachiner             63\n",
       "ClariceStarlingShoes     63\n",
       "kab0b87                  62\n",
       "Anoraklibrarian          62\n",
       "xLNBx                    60\n",
       "dbaruela                 60\n",
       "GetTheLedPaintOut        60\n",
       "j0be                     59\n",
       "JimmyTheCrossEyedDog     59\n",
       "wizard_oil               58\n",
       "oyog                     57\n",
       "Name: author, dtype: int64"
      ]
     },
     "execution_count": 55,
     "metadata": {},
     "output_type": "execute_result"
    }
   ],
   "source": [
    "# Looking at the top value counts for authors\n",
    "# One thing that's awesome is that one of the top commenters is Jesse Thorn, who is the founder of the \n",
    "# company \n",
    "reddits['author'].value_counts().head(50)"
   ]
  },
  {
   "cell_type": "code",
   "execution_count": 48,
   "metadata": {},
   "outputs": [],
   "source": [
    "# I changed the 'deleted' commenter to an underscore to treat it like I treated the nulls \n",
    "reddits['author'].replace('[deleted]', '_', inplace=True)"
   ]
  },
  {
   "cell_type": "code",
   "execution_count": 49,
   "metadata": {},
   "outputs": [
    {
     "data": {
      "text/plain": [
       "kplaysbass              659\n",
       "apathymonger            590\n",
       "Currymango              575\n",
       "thesupermikey           531\n",
       "Gimleteer               447\n",
       "JesseThorn              347\n",
       "jeremyfrankly           297\n",
       "HunterJE                267\n",
       "dragon32xing            255\n",
       "SchulzBuster            239\n",
       "CozyAmigo               231\n",
       "_                       225\n",
       "SaddestClown            185\n",
       "El_Seven                173\n",
       "lawjr3                  162\n",
       "CWHats                  111\n",
       "SlowKing1997            109\n",
       "DrColossusOfRhodes       98\n",
       "forg9587                 96\n",
       "bomblol                  91\n",
       "ClockOfTheLongNow        90\n",
       "CubeLifeDeskJob          86\n",
       "KidsDrDave               85\n",
       "kingofblackacid          84\n",
       "PrankBear                84\n",
       "Jordan_Morris            84\n",
       "baldnotes                82\n",
       "PM_ME_MICHAEL_STIPE      82\n",
       "King_Mort                80\n",
       "boundfortrees            79\n",
       "tbotcotw                 75\n",
       "rufus418                 74\n",
       "a_brianstorm             74\n",
       "DimlightHero             71\n",
       "ThinWhiteRogue           71\n",
       "hsalfesrever             69\n",
       "ZeGoldMedal              68\n",
       "real_cool_club           66\n",
       "AutoModerator            64\n",
       "ClariceStarlingShoes     63\n",
       "fartmachiner             63\n",
       "Anoraklibrarian          62\n",
       "kab0b87                  62\n",
       "xLNBx                    60\n",
       "dbaruela                 60\n",
       "GetTheLedPaintOut        60\n",
       "j0be                     59\n",
       "JimmyTheCrossEyedDog     59\n",
       "wizard_oil               58\n",
       "oyog                     57\n",
       "Name: author, dtype: int64"
      ]
     },
     "execution_count": 49,
     "metadata": {},
     "output_type": "execute_result"
    }
   ],
   "source": [
    "# Checking to see what the new list looks like \n",
    "reddits['author'].value_counts().head(50)"
   ]
  },
  {
   "cell_type": "code",
   "execution_count": 59,
   "metadata": {},
   "outputs": [
    {
     "data": {
      "text/html": [
       "<div>\n",
       "<style scoped>\n",
       "    .dataframe tbody tr th:only-of-type {\n",
       "        vertical-align: middle;\n",
       "    }\n",
       "\n",
       "    .dataframe tbody tr th {\n",
       "        vertical-align: top;\n",
       "    }\n",
       "\n",
       "    .dataframe thead th {\n",
       "        text-align: right;\n",
       "    }\n",
       "</style>\n",
       "<table border=\"1\" class=\"dataframe\">\n",
       "  <thead>\n",
       "    <tr style=\"text-align: right;\">\n",
       "      <th></th>\n",
       "      <th>subreddit</th>\n",
       "      <th>type</th>\n",
       "      <th>author</th>\n",
       "      <th>title</th>\n",
       "      <th>body</th>\n",
       "      <th>selftext</th>\n",
       "      <th>created_utc</th>\n",
       "    </tr>\n",
       "  </thead>\n",
       "  <tbody>\n",
       "    <tr>\n",
       "      <th>0</th>\n",
       "      <td>maximumfun</td>\n",
       "      <td>submission</td>\n",
       "      <td>King_Mort</td>\n",
       "      <td>Tights and Fights Ep. 114: Thank you, Roman</td>\n",
       "      <td>_</td>\n",
       "      <td>_</td>\n",
       "      <td>1540527256</td>\n",
       "    </tr>\n",
       "    <tr>\n",
       "      <th>1</th>\n",
       "      <td>gimlet</td>\n",
       "      <td>submission</td>\n",
       "      <td>Gimleteer</td>\n",
       "      <td>StartUp - Making a TV Series 2: Santa's Hollyw...</td>\n",
       "      <td>_</td>\n",
       "      <td>_</td>\n",
       "      <td>1540530008</td>\n",
       "    </tr>\n",
       "    <tr>\n",
       "      <th>2</th>\n",
       "      <td>maximumfun</td>\n",
       "      <td>submission</td>\n",
       "      <td>Currymango</td>\n",
       "      <td>April Wolfe's Switchblade Sisters Episode 51: ...</td>\n",
       "      <td>_</td>\n",
       "      <td>_</td>\n",
       "      <td>1540597457</td>\n",
       "    </tr>\n",
       "    <tr>\n",
       "      <th>3</th>\n",
       "      <td>maximumfun</td>\n",
       "      <td>submission</td>\n",
       "      <td>Currymango</td>\n",
       "      <td>Who Shot Ya? Episode 60: Trick AND Treat: The ...</td>\n",
       "      <td>_</td>\n",
       "      <td>_</td>\n",
       "      <td>1540597487</td>\n",
       "    </tr>\n",
       "    <tr>\n",
       "      <th>4</th>\n",
       "      <td>maximumfun</td>\n",
       "      <td>submission</td>\n",
       "      <td>apathymonger</td>\n",
       "      <td>The Flop House #269 – Friend Request</td>\n",
       "      <td>_</td>\n",
       "      <td>_</td>\n",
       "      <td>1540644451</td>\n",
       "    </tr>\n",
       "  </tbody>\n",
       "</table>\n",
       "</div>"
      ],
      "text/plain": [
       "    subreddit        type        author  \\\n",
       "0  maximumfun  submission     King_Mort   \n",
       "1      gimlet  submission     Gimleteer   \n",
       "2  maximumfun  submission    Currymango   \n",
       "3  maximumfun  submission    Currymango   \n",
       "4  maximumfun  submission  apathymonger   \n",
       "\n",
       "                                               title body selftext  \\\n",
       "0        Tights and Fights Ep. 114: Thank you, Roman    _        _   \n",
       "1  StartUp - Making a TV Series 2: Santa's Hollyw...    _        _   \n",
       "2  April Wolfe's Switchblade Sisters Episode 51: ...    _        _   \n",
       "3  Who Shot Ya? Episode 60: Trick AND Treat: The ...    _        _   \n",
       "4               The Flop House #269 – Friend Request    _        _   \n",
       "\n",
       "   created_utc  \n",
       "0   1540527256  \n",
       "1   1540530008  \n",
       "2   1540597457  \n",
       "3   1540597487  \n",
       "4   1540644451  "
      ]
     },
     "execution_count": 59,
     "metadata": {},
     "output_type": "execute_result"
    }
   ],
   "source": [
    "# Checking out my dataframe \n",
    "reddits.head()"
   ]
  },
  {
   "cell_type": "code",
   "execution_count": 50,
   "metadata": {},
   "outputs": [],
   "source": [
    "# Saving my dataframe to a csv\n",
    "reddits.to_csv('./data/reddits.csv', index=False)"
   ]
  }
 ],
 "metadata": {
  "kernelspec": {
   "display_name": "Python 3",
   "language": "python",
   "name": "python3"
  },
  "language_info": {
   "codemirror_mode": {
    "name": "ipython",
    "version": 3
   },
   "file_extension": ".py",
   "mimetype": "text/x-python",
   "name": "python",
   "nbconvert_exporter": "python",
   "pygments_lexer": "ipython3",
   "version": "3.7.6"
  }
 },
 "nbformat": 4,
 "nbformat_minor": 4
}
