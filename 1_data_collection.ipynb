{
 "cells": [
  {
   "cell_type": "markdown",
   "metadata": {},
   "source": [
    "# Project 3 NLP of Subreddits"
   ]
  },
  {
   "cell_type": "markdown",
   "metadata": {},
   "source": [
    "The goal of this project is to take two subreddits and train several NLP models to differentiate between the two and predict which submissions and comments are from each subreddit. I chose two subreddits of podcast networks, Gimlet and Maximum Fun. I chose these two because there would be some overlap of vocabulary because they are both podcast networks, but they would be different enough because the shows of each network cover different kinds of topics. \n",
    "\n",
    "Maximum Fun was started in 2004 by Jesse Thorn, originally an NPR host. Most of the podcasts are comedy and culture themed. I got to know Maximum Fun because of the podcast Judge John Hodgman, in which Hodgman presides over a fake internet court and settles petty disputes between friends and family members. \n",
    "\n",
    "Gimlet was started in 2014 by another NPR host, Alex Blumberg. The content of the podcasts tends to be more serious than Maximum Fun, and include a healthy dose of true crime content. My favorite show from the network is Heavy Weight, where host Jonathan Goldstein helps people confront regrets and defining moments in the lives of his guests.\n",
    "\n",
    "### Contents:\n",
    "- [Functions for Collecting Subreddits](#Functions-for-Collecting-Subreddits)\n",
    "- [Pulling Maximum Fun Subreddit Submissions](#Pulling-Maximum-Fun-Subreddit-Submissions)\n",
    "- [Pulling Maximum Fun Subreddit Comments](#Pulling-Maximum-Fun-Subreddit-Comments)\n",
    "- [Pulling Gimlet Subreddit Submissions](#Pulling-Gimlet-Subreddit-Submissions)\n",
    "- [Pulling Gimlet Subreddit Comments](#Pulling-Maximum-Fun-Subreddit-Comments)"
   ]
  },
  {
   "cell_type": "code",
   "execution_count": 1,
   "metadata": {},
   "outputs": [],
   "source": [
    "# importing packages \n",
    "import requests\n",
    "import pandas as pd"
   ]
  },
  {
   "cell_type": "markdown",
   "metadata": {},
   "source": [
    "## Functions for Collecting Subreddits"
   ]
  },
  {
   "cell_type": "code",
   "execution_count": 2,
   "metadata": {},
   "outputs": [],
   "source": [
    "# Function for getting reddit submissions \n",
    "def get_reddit_submissions(subreddit, UTC):\n",
    "    # URL for pushshift API\n",
    "    url = 'https://api.pushshift.io/reddit/search/submission'\n",
    "    # Parameters for pulling the data\n",
    "    params = {\n",
    "        'subreddit': subreddit,\n",
    "        'size': 500, \n",
    "        'before': UTC\n",
    "    }\n",
    "    # Creating the request\n",
    "    response = requests.get(url, params)\n",
    "    # Grabbing the data\n",
    "    data = response.json()\n",
    "    # Creating a variable called posts to store data\n",
    "    posts = data['data']\n",
    "    # Storing data in a dataframe \n",
    "    return pd.DataFrame(posts)"
   ]
  },
  {
   "cell_type": "code",
   "execution_count": 3,
   "metadata": {},
   "outputs": [],
   "source": [
    "# Function for getting reddit comments \n",
    "def get_reddit_comments(subreddit, UTC):\n",
    "    # URL for pushshift API\n",
    "    url = 'https://api.pushshift.io/reddit/search/comment'\n",
    "    # Parameters for pulling the data\n",
    "    params = {\n",
    "        'subreddit': subreddit,\n",
    "        'size': 500, \n",
    "        'before': UTC\n",
    "    }\n",
    "    # Creating the request\n",
    "    response = requests.get(url, params)\n",
    "    # Grabbing the data\n",
    "    data = response.json()\n",
    "    # Creating a variable called posts to store data\n",
    "    posts = data['data']\n",
    "    # Storing data in a dataframe \n",
    "    return pd.DataFrame(posts)"
   ]
  },
  {
   "cell_type": "markdown",
   "metadata": {},
   "source": [
    "## Pulling Maximum Fun Subreddit Submissions "
   ]
  },
  {
   "cell_type": "code",
   "execution_count": 70,
   "metadata": {},
   "outputs": [],
   "source": [
    "# For the first time calling this function I left out the UTC and altered the function \n",
    "max_fun_sub1 = get_reddit_submissions('maximumfun')"
   ]
  },
  {
   "cell_type": "code",
   "execution_count": 237,
   "metadata": {},
   "outputs": [
    {
     "data": {
      "text/html": [
       "<div>\n",
       "<style scoped>\n",
       "    .dataframe tbody tr th:only-of-type {\n",
       "        vertical-align: middle;\n",
       "    }\n",
       "\n",
       "    .dataframe tbody tr th {\n",
       "        vertical-align: top;\n",
       "    }\n",
       "\n",
       "    .dataframe thead th {\n",
       "        text-align: right;\n",
       "    }\n",
       "</style>\n",
       "<table border=\"1\" class=\"dataframe\">\n",
       "  <thead>\n",
       "    <tr style=\"text-align: right;\">\n",
       "      <th></th>\n",
       "      <th>subreddit</th>\n",
       "      <th>author</th>\n",
       "      <th>selftext</th>\n",
       "      <th>title</th>\n",
       "      <th>created_utc</th>\n",
       "    </tr>\n",
       "  </thead>\n",
       "  <tbody>\n",
       "    <tr>\n",
       "      <th>0</th>\n",
       "      <td>maximumfun</td>\n",
       "      <td>apathymonger</td>\n",
       "      <td></td>\n",
       "      <td>Who Shot Ya? Episode 125: ‘Dolittle’ and the B...</td>\n",
       "      <td>1579896697</td>\n",
       "    </tr>\n",
       "    <tr>\n",
       "      <th>1</th>\n",
       "      <td>maximumfun</td>\n",
       "      <td>apathymonger</td>\n",
       "      <td></td>\n",
       "      <td>Sawbones: IV Cocktails</td>\n",
       "      <td>1579892605</td>\n",
       "    </tr>\n",
       "    <tr>\n",
       "      <th>2</th>\n",
       "      <td>maximumfun</td>\n",
       "      <td>apathymonger</td>\n",
       "      <td></td>\n",
       "      <td>Still Buffering: NikkieTutorials</td>\n",
       "      <td>1579891544</td>\n",
       "    </tr>\n",
       "    <tr>\n",
       "      <th>3</th>\n",
       "      <td>maximumfun</td>\n",
       "      <td>Currymango</td>\n",
       "      <td></td>\n",
       "      <td>The JV Club Ep. 359: Jamie Loftus</td>\n",
       "      <td>1579829527</td>\n",
       "    </tr>\n",
       "    <tr>\n",
       "      <th>4</th>\n",
       "      <td>maximumfun</td>\n",
       "      <td>Currymango</td>\n",
       "      <td></td>\n",
       "      <td>Switchblade Sisters Episode 116: ‘Bunny Lake I...</td>\n",
       "      <td>1579829493</td>\n",
       "    </tr>\n",
       "  </tbody>\n",
       "</table>\n",
       "</div>"
      ],
      "text/plain": [
       "    subreddit        author selftext  \\\n",
       "0  maximumfun  apathymonger            \n",
       "1  maximumfun  apathymonger            \n",
       "2  maximumfun  apathymonger            \n",
       "3  maximumfun    Currymango            \n",
       "4  maximumfun    Currymango            \n",
       "\n",
       "                                               title  created_utc  \n",
       "0  Who Shot Ya? Episode 125: ‘Dolittle’ and the B...   1579896697  \n",
       "1                             Sawbones: IV Cocktails   1579892605  \n",
       "2                   Still Buffering: NikkieTutorials   1579891544  \n",
       "3                  The JV Club Ep. 359: Jamie Loftus   1579829527  \n",
       "4  Switchblade Sisters Episode 116: ‘Bunny Lake I...   1579829493  "
      ]
     },
     "execution_count": 237,
     "metadata": {},
     "output_type": "execute_result"
    }
   ],
   "source": [
    "# Checking the data\n",
    "max_fun_sub1.head()"
   ]
  },
  {
   "cell_type": "code",
   "execution_count": 238,
   "metadata": {},
   "outputs": [],
   "source": [
    "# I chose the following columns as ones that would be useful because of the content they contain\n",
    "max_fun_sub1 = max_fun_sub1[['subreddit', 'author', 'selftext', 'title', 'created_utc']]"
   ]
  },
  {
   "cell_type": "code",
   "execution_count": 239,
   "metadata": {},
   "outputs": [
    {
     "data": {
      "text/plain": [
       "(500, 5)"
      ]
     },
     "execution_count": 239,
     "metadata": {},
     "output_type": "execute_result"
    }
   ],
   "source": [
    "# Checking the shape of the data\n",
    "max_fun_sub1.shape"
   ]
  },
  {
   "cell_type": "code",
   "execution_count": 240,
   "metadata": {},
   "outputs": [
    {
     "name": "stdout",
     "output_type": "stream",
     "text": [
      "<class 'pandas.core.frame.DataFrame'>\n",
      "RangeIndex: 500 entries, 0 to 499\n",
      "Data columns (total 5 columns):\n",
      "subreddit      500 non-null object\n",
      "author         500 non-null object\n",
      "selftext       500 non-null object\n",
      "title          500 non-null object\n",
      "created_utc    500 non-null int64\n",
      "dtypes: int64(1), object(4)\n",
      "memory usage: 19.7+ KB\n"
     ]
    }
   ],
   "source": [
    "# Checking the data types to see what they are\n",
    "max_fun_sub1.info()"
   ]
  },
  {
   "cell_type": "code",
   "execution_count": 241,
   "metadata": {},
   "outputs": [
    {
     "data": {
      "text/plain": [
       "subreddit                                             maximumfun\n",
       "author                                             1000000Ghosts\n",
       "selftext                                                        \n",
       "title          (Max Fun Adjacent) A new music video directed ...\n",
       "created_utc                                           1569869169\n",
       "dtype: object"
      ]
     },
     "execution_count": 241,
     "metadata": {},
     "output_type": "execute_result"
    }
   ],
   "source": [
    "# Getting the minimum values for the UTC\n",
    "max_fun_sub1.min()"
   ]
  },
  {
   "cell_type": "code",
   "execution_count": 341,
   "metadata": {},
   "outputs": [],
   "source": [
    "# Pulling on the minimum UTC from before\n",
    "max_fun_sub2 = get_reddit_submissions('maximumfun', 1569869169)"
   ]
  },
  {
   "cell_type": "markdown",
   "metadata": {},
   "source": [
    "### From here the function is run for 4 more iterations"
   ]
  },
  {
   "cell_type": "code",
   "execution_count": 342,
   "metadata": {},
   "outputs": [],
   "source": [
    "max_fun_sub2 = max_fun_sub2[['subreddit', 'author', 'selftext', 'title', 'created_utc']]"
   ]
  },
  {
   "cell_type": "code",
   "execution_count": 343,
   "metadata": {},
   "outputs": [
    {
     "data": {
      "text/plain": [
       "subreddit                                             maximumfun\n",
       "author                                               1917Thotsky\n",
       "selftext                                                        \n",
       "title          \"Popstar: Never Stop Never Stopping\", subject ...\n",
       "created_utc                                           1559240433\n",
       "dtype: object"
      ]
     },
     "execution_count": 343,
     "metadata": {},
     "output_type": "execute_result"
    }
   ],
   "source": [
    "max_fun_sub2.min()"
   ]
  },
  {
   "cell_type": "code",
   "execution_count": 344,
   "metadata": {},
   "outputs": [],
   "source": [
    "max_fun_sub3 = get_reddit_submissions('maximumfun', 1559240433)"
   ]
  },
  {
   "cell_type": "code",
   "execution_count": 345,
   "metadata": {},
   "outputs": [],
   "source": [
    "max_fun_sub3 = max_fun_sub3[['subreddit', 'author', 'selftext', 'title', 'created_utc']]"
   ]
  },
  {
   "cell_type": "code",
   "execution_count": 346,
   "metadata": {},
   "outputs": [
    {
     "data": {
      "text/plain": [
       "subreddit                                        maximumfun\n",
       "author                                        1000000Ghosts\n",
       "selftext                                                   \n",
       "title          \"What is a fez?\" JJGo reference on Jeopardy?\n",
       "created_utc                                      1551117329\n",
       "dtype: object"
      ]
     },
     "execution_count": 346,
     "metadata": {},
     "output_type": "execute_result"
    }
   ],
   "source": [
    "max_fun_sub3.min()"
   ]
  },
  {
   "cell_type": "code",
   "execution_count": 347,
   "metadata": {},
   "outputs": [],
   "source": [
    "max_fun_sub4 = get_reddit_submissions('maximumfun', 1551117329)"
   ]
  },
  {
   "cell_type": "code",
   "execution_count": 348,
   "metadata": {},
   "outputs": [],
   "source": [
    "max_fun_sub4 = max_fun_sub4[['subreddit', 'author', 'selftext', 'title', 'created_utc']]"
   ]
  },
  {
   "cell_type": "code",
   "execution_count": 349,
   "metadata": {},
   "outputs": [
    {
     "data": {
      "text/plain": [
       "subreddit                                             maximumfun\n",
       "author                                           3RdRocktothesun\n",
       "selftext                                                        \n",
       "title          (As Discussed on JJGO): Chris Gethard Show wit...\n",
       "created_utc                                           1540668669\n",
       "dtype: object"
      ]
     },
     "execution_count": 349,
     "metadata": {},
     "output_type": "execute_result"
    }
   ],
   "source": [
    "max_fun_sub4.min()"
   ]
  },
  {
   "cell_type": "code",
   "execution_count": 350,
   "metadata": {},
   "outputs": [],
   "source": [
    "max_fun_sub5 = get_reddit_submissions('maximumfun', 1540668669)"
   ]
  },
  {
   "cell_type": "code",
   "execution_count": 351,
   "metadata": {},
   "outputs": [],
   "source": [
    "max_fun_sub5 = max_fun_sub5[['subreddit', 'author', 'selftext', 'title', 'created_utc']]"
   ]
  },
  {
   "cell_type": "code",
   "execution_count": 352,
   "metadata": {},
   "outputs": [
    {
     "data": {
      "text/plain": [
       "subreddit                    maximumfun\n",
       "author                 AggressiveChairs\n",
       "selftext                               \n",
       "title          4 star package by Alhadi\n",
       "created_utc                  1530967155\n",
       "dtype: object"
      ]
     },
     "execution_count": 352,
     "metadata": {},
     "output_type": "execute_result"
    }
   ],
   "source": [
    "max_fun_sub5.min()"
   ]
  },
  {
   "cell_type": "markdown",
   "metadata": {},
   "source": [
    "## Pulling Maximum Fun Subreddit Comments\n",
    "\n",
    "### I decided to get both submissions and comments from each of my subreddits. The comments for the subreddits have a lot more content, particularly for Maximum Fun, where a lot of the submissions are links to episodes. "
   ]
  },
  {
   "cell_type": "code",
   "execution_count": 112,
   "metadata": {},
   "outputs": [],
   "source": [
    "# First pull for comments, and this is repeated 15 times. \n",
    "max_fun_comments1 = get_reddit_comments('maximumfun')"
   ]
  },
  {
   "cell_type": "code",
   "execution_count": 113,
   "metadata": {},
   "outputs": [],
   "source": [
    "# These are the columns I found to be useful for content\n",
    "max_fun_comments1 = max_fun_comments1[['subreddit', 'author', 'body', 'created_utc']]"
   ]
  },
  {
   "cell_type": "code",
   "execution_count": 138,
   "metadata": {},
   "outputs": [
    {
     "data": {
      "text/plain": [
       "subreddit                                             maximumfun\n",
       "author                                               2cool4u6969\n",
       "body           \"It's all about lifelong learning.\"\\n\\nWhere h...\n",
       "created_utc                                           1578596547\n",
       "dtype: object"
      ]
     },
     "execution_count": 138,
     "metadata": {},
     "output_type": "execute_result"
    }
   ],
   "source": [
    "max_fun_comments1.min()"
   ]
  },
  {
   "cell_type": "code",
   "execution_count": 142,
   "metadata": {},
   "outputs": [],
   "source": [
    "max_fun_comments2 = get_reddit_comments('maximumfun', 1578596547)"
   ]
  },
  {
   "cell_type": "code",
   "execution_count": 143,
   "metadata": {},
   "outputs": [],
   "source": [
    "max_fun_comments2 = max_fun_comments2[['subreddit', 'author', 'body', 'created_utc']]"
   ]
  },
  {
   "cell_type": "code",
   "execution_count": 144,
   "metadata": {},
   "outputs": [
    {
     "data": {
      "text/plain": [
       "subreddit               maximumfun\n",
       "author                      0vrkil\n",
       "body            Hi dying, I'm Dad!\n",
       "created_utc             1576668608\n",
       "dtype: object"
      ]
     },
     "execution_count": 144,
     "metadata": {},
     "output_type": "execute_result"
    }
   ],
   "source": [
    "max_fun_comments2.min()"
   ]
  },
  {
   "cell_type": "code",
   "execution_count": 145,
   "metadata": {},
   "outputs": [],
   "source": [
    "max_fun_comments3 = get_reddit_comments('maximumfun', 1576668608)"
   ]
  },
  {
   "cell_type": "code",
   "execution_count": 146,
   "metadata": {},
   "outputs": [],
   "source": [
    "max_fun_comments3 = max_fun_comments3[['subreddit', 'author', 'body', 'created_utc']]"
   ]
  },
  {
   "cell_type": "code",
   "execution_count": 147,
   "metadata": {},
   "outputs": [
    {
     "data": {
      "text/plain": [
       "subreddit                                             maximumfun\n",
       "author                                               1917Thotsky\n",
       "body            I really do hope you guys come up with someth...\n",
       "created_utc                                           1575649111\n",
       "dtype: object"
      ]
     },
     "execution_count": 147,
     "metadata": {},
     "output_type": "execute_result"
    }
   ],
   "source": [
    "max_fun_comments3.min()"
   ]
  },
  {
   "cell_type": "code",
   "execution_count": 148,
   "metadata": {},
   "outputs": [],
   "source": [
    "max_fun_comments4 = get_reddit_comments('maximumfun', 1575649111)"
   ]
  },
  {
   "cell_type": "code",
   "execution_count": 149,
   "metadata": {},
   "outputs": [],
   "source": [
    "max_fun_comments4 = max_fun_comments4[['subreddit', 'author', 'body', 'created_utc']]"
   ]
  },
  {
   "cell_type": "code",
   "execution_count": 150,
   "metadata": {},
   "outputs": [
    {
     "data": {
      "text/plain": [
       "subreddit                maximumfun\n",
       "author             0011110000110011\n",
       "body           \"Are you a fence?\" 😂\n",
       "created_utc              1574368606\n",
       "dtype: object"
      ]
     },
     "execution_count": 150,
     "metadata": {},
     "output_type": "execute_result"
    }
   ],
   "source": [
    "max_fun_comments4.min()"
   ]
  },
  {
   "cell_type": "code",
   "execution_count": 151,
   "metadata": {},
   "outputs": [],
   "source": [
    "max_fun_comments5 = get_reddit_comments('maximumfun', 1574368606)"
   ]
  },
  {
   "cell_type": "code",
   "execution_count": 152,
   "metadata": {},
   "outputs": [],
   "source": [
    "max_fun_comments5 = max_fun_comments5[['subreddit', 'author', 'body', 'created_utc']]"
   ]
  },
  {
   "cell_type": "code",
   "execution_count": 153,
   "metadata": {},
   "outputs": [
    {
     "data": {
      "text/plain": [
       "subreddit                                             maximumfun\n",
       "author                                             1000000Ghosts\n",
       "body             As others have stated, the Court rightfully ...\n",
       "created_utc                                           1572888504\n",
       "dtype: object"
      ]
     },
     "execution_count": 153,
     "metadata": {},
     "output_type": "execute_result"
    }
   ],
   "source": [
    "max_fun_comments5.min()"
   ]
  },
  {
   "cell_type": "code",
   "execution_count": 154,
   "metadata": {},
   "outputs": [],
   "source": [
    "max_fun_comments6 = get_reddit_comments('maximumfun', 1572888504)"
   ]
  },
  {
   "cell_type": "code",
   "execution_count": 155,
   "metadata": {},
   "outputs": [],
   "source": [
    "max_fun_comments6 = max_fun_comments6[['subreddit', 'author', 'body', 'created_utc']]"
   ]
  },
  {
   "cell_type": "code",
   "execution_count": 156,
   "metadata": {},
   "outputs": [
    {
     "data": {
      "text/plain": [
       "subreddit                                             maximumfun\n",
       "author                                          0011110000110011\n",
       "body             Without even having listened yet, it’s Logan...\n",
       "created_utc                                           1571354268\n",
       "dtype: object"
      ]
     },
     "execution_count": 156,
     "metadata": {},
     "output_type": "execute_result"
    }
   ],
   "source": [
    "max_fun_comments6.min()"
   ]
  },
  {
   "cell_type": "code",
   "execution_count": 157,
   "metadata": {},
   "outputs": [],
   "source": [
    "max_fun_comments7 = get_reddit_comments('maximumfun', 1571354268)"
   ]
  },
  {
   "cell_type": "code",
   "execution_count": 158,
   "metadata": {},
   "outputs": [],
   "source": [
    "max_fun_comments7 = max_fun_comments7[['subreddit', 'author', 'body', 'created_utc']]"
   ]
  },
  {
   "cell_type": "code",
   "execution_count": 159,
   "metadata": {},
   "outputs": [
    {
     "data": {
      "text/plain": [
       "subreddit                                             maximumfun\n",
       "author                                            3-orange-whips\n",
       "body           \"History is real and not a narrative\"  Really?...\n",
       "created_utc                                           1569871527\n",
       "dtype: object"
      ]
     },
     "execution_count": 159,
     "metadata": {},
     "output_type": "execute_result"
    }
   ],
   "source": [
    "max_fun_comments7.min()"
   ]
  },
  {
   "cell_type": "code",
   "execution_count": 160,
   "metadata": {},
   "outputs": [],
   "source": [
    "max_fun_comments8 = get_reddit_comments('maximumfun', 1569871527)"
   ]
  },
  {
   "cell_type": "code",
   "execution_count": 161,
   "metadata": {},
   "outputs": [],
   "source": [
    "max_fun_comments8 = max_fun_comments8[['subreddit', 'author', 'body', 'created_utc']]"
   ]
  },
  {
   "cell_type": "code",
   "execution_count": 162,
   "metadata": {},
   "outputs": [
    {
     "data": {
      "text/plain": [
       "subreddit                                             maximumfun\n",
       "author                                                  -anjani-\n",
       "body               Oscar-winner Cage, who is producing, will ...\n",
       "created_utc                                           1567951674\n",
       "dtype: object"
      ]
     },
     "execution_count": 162,
     "metadata": {},
     "output_type": "execute_result"
    }
   ],
   "source": [
    "max_fun_comments8.min()"
   ]
  },
  {
   "cell_type": "code",
   "execution_count": 163,
   "metadata": {},
   "outputs": [],
   "source": [
    "max_fun_comments9 = get_reddit_comments('maximumfun', 1567951674)"
   ]
  },
  {
   "cell_type": "code",
   "execution_count": 164,
   "metadata": {},
   "outputs": [],
   "source": [
    "max_fun_comments9 = max_fun_comments9[['subreddit', 'author', 'body', 'created_utc']]"
   ]
  },
  {
   "cell_type": "code",
   "execution_count": 165,
   "metadata": {},
   "outputs": [
    {
     "data": {
      "text/plain": [
       "subreddit                                             maximumfun\n",
       "author                                                10goldbees\n",
       "body           \",,,but I can't think of any Georgia-based sho...\n",
       "created_utc                                           1565720234\n",
       "dtype: object"
      ]
     },
     "execution_count": 165,
     "metadata": {},
     "output_type": "execute_result"
    }
   ],
   "source": [
    "max_fun_comments9.min()"
   ]
  },
  {
   "cell_type": "code",
   "execution_count": 47,
   "metadata": {},
   "outputs": [],
   "source": [
    "max_fun_comments10 = get_reddit_comments('maximumfun', 1565720234)"
   ]
  },
  {
   "cell_type": "code",
   "execution_count": 48,
   "metadata": {},
   "outputs": [],
   "source": [
    "max_fun_comments10 = max_fun_comments10[['subreddit', 'author', 'body', 'created_utc']]"
   ]
  },
  {
   "cell_type": "code",
   "execution_count": 49,
   "metadata": {},
   "outputs": [
    {
     "data": {
      "text/plain": [
       "subreddit                                             maximumfun\n",
       "author                                             1000000Ghosts\n",
       "body           \\n&gt;Stuart's been hard at work running more ...\n",
       "created_utc                                           1564097606\n",
       "dtype: object"
      ]
     },
     "execution_count": 49,
     "metadata": {},
     "output_type": "execute_result"
    }
   ],
   "source": [
    "max_fun_comments10.min()"
   ]
  },
  {
   "cell_type": "code",
   "execution_count": 50,
   "metadata": {},
   "outputs": [],
   "source": [
    "max_fun_comments11 = get_reddit_comments('maximumfun', 1564097606)"
   ]
  },
  {
   "cell_type": "code",
   "execution_count": 51,
   "metadata": {},
   "outputs": [],
   "source": [
    "max_fun_comments11 = max_fun_comments11[['subreddit', 'author', 'body', 'created_utc']]"
   ]
  },
  {
   "cell_type": "code",
   "execution_count": 52,
   "metadata": {},
   "outputs": [
    {
     "data": {
      "text/plain": [
       "subreddit                                       maximumfun\n",
       "author                                    0011110000110011\n",
       "body            \\n\\n## Episode 170: Monte Belmonte Python.\n",
       "created_utc                                     1561893862\n",
       "dtype: object"
      ]
     },
     "execution_count": 52,
     "metadata": {},
     "output_type": "execute_result"
    }
   ],
   "source": [
    "max_fun_comments11.min()"
   ]
  },
  {
   "cell_type": "code",
   "execution_count": 53,
   "metadata": {},
   "outputs": [],
   "source": [
    "max_fun_comments12 = get_reddit_comments('maximumfun', 1561893862)"
   ]
  },
  {
   "cell_type": "code",
   "execution_count": 54,
   "metadata": {},
   "outputs": [],
   "source": [
    "max_fun_comments12 = max_fun_comments12[['subreddit', 'author', 'body', 'created_utc']]"
   ]
  },
  {
   "cell_type": "code",
   "execution_count": 55,
   "metadata": {},
   "outputs": [
    {
     "data": {
      "text/plain": [
       "subreddit            maximumfun\n",
       "author         0011110000110011\n",
       "body                  #NangGang\n",
       "created_utc          1560285016\n",
       "dtype: object"
      ]
     },
     "execution_count": 55,
     "metadata": {},
     "output_type": "execute_result"
    }
   ],
   "source": [
    "max_fun_comments12.min()"
   ]
  },
  {
   "cell_type": "code",
   "execution_count": 56,
   "metadata": {},
   "outputs": [],
   "source": [
    "max_fun_comments13 = get_reddit_comments('maximumfun', 1560285016)"
   ]
  },
  {
   "cell_type": "code",
   "execution_count": 57,
   "metadata": {},
   "outputs": [],
   "source": [
    "max_fun_comments13 = max_fun_comments13[['subreddit', 'author', 'body', 'created_utc']]"
   ]
  },
  {
   "cell_type": "code",
   "execution_count": 58,
   "metadata": {},
   "outputs": [
    {
     "data": {
      "text/plain": [
       "subreddit                                             maximumfun\n",
       "author                                                     11R11\n",
       "body           \\n\\nFirst, big fan of the show! \\n\\nSecond, ne...\n",
       "created_utc                                           1558707053\n",
       "dtype: object"
      ]
     },
     "execution_count": 58,
     "metadata": {},
     "output_type": "execute_result"
    }
   ],
   "source": [
    "max_fun_comments13.min()"
   ]
  },
  {
   "cell_type": "code",
   "execution_count": 59,
   "metadata": {},
   "outputs": [],
   "source": [
    "max_fun_comments14 = get_reddit_comments('maximumfun', 1558707053)"
   ]
  },
  {
   "cell_type": "code",
   "execution_count": 60,
   "metadata": {},
   "outputs": [],
   "source": [
    "max_fun_comments14 = max_fun_comments14[['subreddit', 'author', 'body', 'created_utc']]"
   ]
  },
  {
   "cell_type": "code",
   "execution_count": 61,
   "metadata": {},
   "outputs": [
    {
     "data": {
      "text/plain": [
       "subreddit                                             maximumfun\n",
       "author                                                      4a4a\n",
       "body           \"A new way of working. An old way of twerking....\n",
       "created_utc                                           1557153832\n",
       "dtype: object"
      ]
     },
     "execution_count": 61,
     "metadata": {},
     "output_type": "execute_result"
    }
   ],
   "source": [
    "max_fun_comments14.min()"
   ]
  },
  {
   "cell_type": "code",
   "execution_count": 4,
   "metadata": {},
   "outputs": [],
   "source": [
    "max_fun_comments15 = get_reddit_comments('maximumfun', 1557153832)"
   ]
  },
  {
   "cell_type": "code",
   "execution_count": 5,
   "metadata": {},
   "outputs": [],
   "source": [
    "max_fun_comments15 = max_fun_comments15[['subreddit', 'author', 'body', 'created_utc']]"
   ]
  },
  {
   "cell_type": "code",
   "execution_count": 6,
   "metadata": {},
   "outputs": [
    {
     "data": {
      "text/plain": [
       "subreddit                  maximumfun\n",
       "author                  1000000Ghosts\n",
       "body            don't want to support\n",
       "created_utc                1556127743\n",
       "dtype: object"
      ]
     },
     "execution_count": 6,
     "metadata": {},
     "output_type": "execute_result"
    }
   ],
   "source": [
    "max_fun_comments15.min()"
   ]
  },
  {
   "cell_type": "code",
   "execution_count": 353,
   "metadata": {},
   "outputs": [],
   "source": [
    "# I did a concat for the submission pulls I did. I only did one pull for submissions because they went \n",
    "# much further back than comments, because there are much fewer of them\n",
    "max_fun_subs = pd.concat([max_fun_sub1, max_fun_sub2, max_fun_sub3, max_fun_sub4, max_fun_sub5], sort=True)"
   ]
  },
  {
   "cell_type": "code",
   "execution_count": 354,
   "metadata": {},
   "outputs": [
    {
     "data": {
      "text/plain": [
       "(2500, 5)"
      ]
     },
     "execution_count": 354,
     "metadata": {},
     "output_type": "execute_result"
    }
   ],
   "source": [
    "max_fun_subs.shape"
   ]
  },
  {
   "cell_type": "code",
   "execution_count": 254,
   "metadata": {},
   "outputs": [],
   "source": [
    "# I came back and did a few different pulls to get more content, this is the first set concatenated \n",
    "max_fun_comments = pd.concat([max_fun_comments1, max_fun_comments2, max_fun_comments3, max_fun_comments4, max_fun_comments5, max_fun_comments6, max_fun_comments7, max_fun_comments8, max_fun_comments9, max_fun_comments10], sort=True)"
   ]
  },
  {
   "cell_type": "code",
   "execution_count": 45,
   "metadata": {},
   "outputs": [],
   "source": [
    "# This was the second set of comments I pulled and concatenated \n",
    "max_fun_comments2 = pd.concat([max_fun_comments11, max_fun_comments12, max_fun_comments13, max_fun_comments14, max_fun_comments15], sort=True)"
   ]
  },
  {
   "cell_type": "code",
   "execution_count": 255,
   "metadata": {},
   "outputs": [
    {
     "data": {
      "text/plain": [
       "(5000, 4)"
      ]
     },
     "execution_count": 255,
     "metadata": {},
     "output_type": "execute_result"
    }
   ],
   "source": [
    "# Looking at the shape of the new comments file \n",
    "max_fun_comments.shape"
   ]
  },
  {
   "cell_type": "code",
   "execution_count": 355,
   "metadata": {},
   "outputs": [],
   "source": [
    "# Saving the file to a csv\n",
    "max_fun_subs.to_csv('./data/max_fun_submissions.csv', index=False)"
   ]
  },
  {
   "cell_type": "code",
   "execution_count": 332,
   "metadata": {},
   "outputs": [],
   "source": [
    "# Saving the file to a csv\n",
    "max_fun_comments.to_csv('./data/max_fun_comments.csv', index=False)"
   ]
  },
  {
   "cell_type": "code",
   "execution_count": 46,
   "metadata": {},
   "outputs": [],
   "source": [
    "# Saving the file to a csv \n",
    "max_fun_comments2.to_csv('./data/max_fun_comments2.csv', index=False)"
   ]
  },
  {
   "cell_type": "markdown",
   "metadata": {},
   "source": [
    "## Pulling Gimlet Subreddit Submissions"
   ]
  },
  {
   "cell_type": "code",
   "execution_count": 259,
   "metadata": {},
   "outputs": [],
   "source": [
    "# Repeating the same process with Gimlet that I did with Maximum Fun\n",
    "gimlet_sub1 = get_reddit_submissions('gimlet')"
   ]
  },
  {
   "cell_type": "code",
   "execution_count": 261,
   "metadata": {},
   "outputs": [],
   "source": [
    "gimlet_sub1 = gimlet_sub1[['subreddit', 'author', 'selftext', 'title', 'created_utc']]"
   ]
  },
  {
   "cell_type": "code",
   "execution_count": 262,
   "metadata": {},
   "outputs": [
    {
     "data": {
      "text/plain": [
       "subreddit                                                 gimlet\n",
       "author                                               13104598210\n",
       "selftext                                                        \n",
       "title          \"Negative Mount Pleasant\" update: Kelly Gallah...\n",
       "created_utc                                           1558987823\n",
       "dtype: object"
      ]
     },
     "execution_count": 262,
     "metadata": {},
     "output_type": "execute_result"
    }
   ],
   "source": [
    "gimlet_sub1.min()"
   ]
  },
  {
   "cell_type": "code",
   "execution_count": 264,
   "metadata": {},
   "outputs": [],
   "source": [
    "gimlet_sub2 = get_reddit_submissions('gimlet', 1558987823)"
   ]
  },
  {
   "cell_type": "code",
   "execution_count": 265,
   "metadata": {},
   "outputs": [],
   "source": [
    "gimlet_sub2 = gimlet_sub2[['subreddit', 'author', 'selftext', 'title', 'created_utc']]"
   ]
  },
  {
   "cell_type": "code",
   "execution_count": 266,
   "metadata": {},
   "outputs": [
    {
     "data": {
      "text/plain": [
       "subreddit           gimlet\n",
       "author           -Badger2-\n",
       "selftext                  \n",
       "title          \"Julys 4th\"\n",
       "created_utc     1540886253\n",
       "dtype: object"
      ]
     },
     "execution_count": 266,
     "metadata": {},
     "output_type": "execute_result"
    }
   ],
   "source": [
    "gimlet_sub2.min()"
   ]
  },
  {
   "cell_type": "code",
   "execution_count": 267,
   "metadata": {},
   "outputs": [],
   "source": [
    "gimlet_sub3 = get_reddit_submissions('gimlet', 1540886253)"
   ]
  },
  {
   "cell_type": "code",
   "execution_count": 268,
   "metadata": {},
   "outputs": [],
   "source": [
    "gimlet_sub3 = gimlet_sub3[['subreddit', 'author', 'selftext', 'title', 'created_utc']]"
   ]
  },
  {
   "cell_type": "code",
   "execution_count": 269,
   "metadata": {},
   "outputs": [
    {
     "data": {
      "text/plain": [
       "subreddit                                                 gimlet\n",
       "author                                                   4771cu5\n",
       "selftext                                                        \n",
       "title          \"Casting Call\" will be a \"reality audio\" show ...\n",
       "created_utc                                           1520011356\n",
       "dtype: object"
      ]
     },
     "execution_count": 269,
     "metadata": {},
     "output_type": "execute_result"
    }
   ],
   "source": [
    "gimlet_sub3.min()"
   ]
  },
  {
   "cell_type": "code",
   "execution_count": 270,
   "metadata": {},
   "outputs": [],
   "source": [
    "gimlet_sub4 = get_reddit_submissions('gimlet', 1520011356)"
   ]
  },
  {
   "cell_type": "code",
   "execution_count": 271,
   "metadata": {},
   "outputs": [],
   "source": [
    "gimlet_sub4 = gimlet_sub4[['subreddit', 'author', 'selftext', 'title', 'created_utc']]"
   ]
  },
  {
   "cell_type": "code",
   "execution_count": 272,
   "metadata": {},
   "outputs": [
    {
     "data": {
      "text/plain": [
       "subreddit                                                 gimlet\n",
       "author                                      ATurtleWithoutAShell\n",
       "title          \"Pirate Joe's\" from Start Up Season 3 is shut ...\n",
       "created_utc                                           1496154847\n",
       "dtype: object"
      ]
     },
     "execution_count": 272,
     "metadata": {},
     "output_type": "execute_result"
    }
   ],
   "source": [
    "gimlet_sub4.min()"
   ]
  },
  {
   "cell_type": "code",
   "execution_count": 273,
   "metadata": {},
   "outputs": [],
   "source": [
    "gimlet_sub5 = get_reddit_submissions('gimlet', 1496154847)"
   ]
  },
  {
   "cell_type": "code",
   "execution_count": 274,
   "metadata": {},
   "outputs": [],
   "source": [
    "gimlet_sub5 = gimlet_sub5[['subreddit', 'author', 'selftext', 'title', 'created_utc']]"
   ]
  },
  {
   "cell_type": "code",
   "execution_count": 275,
   "metadata": {},
   "outputs": [
    {
     "data": {
      "text/plain": [
       "subreddit                                       gimlet\n",
       "author                                            8mom\n",
       "selftext                                              \n",
       "title          \"C - U - H\" roll out strategy questions\n",
       "created_utc                                 1465513267\n",
       "dtype: object"
      ]
     },
     "execution_count": 275,
     "metadata": {},
     "output_type": "execute_result"
    }
   ],
   "source": [
    "gimlet_sub5.min()"
   ]
  },
  {
   "cell_type": "markdown",
   "metadata": {},
   "source": [
    "### Pulling Gimlet Subreddit Comments"
   ]
  },
  {
   "cell_type": "code",
   "execution_count": 278,
   "metadata": {},
   "outputs": [],
   "source": [
    "# Repeating the same process for Subreddit Comments as above \n",
    "gimlet_com1 = get_reddit_comments('gimlet')"
   ]
  },
  {
   "cell_type": "code",
   "execution_count": 279,
   "metadata": {},
   "outputs": [],
   "source": [
    "gimlet_com1 = gimlet_com1[['subreddit', 'author', 'body', 'created_utc']]"
   ]
  },
  {
   "cell_type": "code",
   "execution_count": 280,
   "metadata": {},
   "outputs": [
    {
     "data": {
      "text/plain": [
       "subreddit                                                 gimlet\n",
       "author                                                 -007-bond\n",
       "body            [**https://youtu.be/0wMJpak5e8s**](https://yo...\n",
       "created_utc                                           1577165162\n",
       "dtype: object"
      ]
     },
     "execution_count": 280,
     "metadata": {},
     "output_type": "execute_result"
    }
   ],
   "source": [
    "gimlet_com1.min()"
   ]
  },
  {
   "cell_type": "code",
   "execution_count": 282,
   "metadata": {},
   "outputs": [],
   "source": [
    "gimlet_com2 = get_reddit_comments('gimlet', 1577165162)"
   ]
  },
  {
   "cell_type": "code",
   "execution_count": 283,
   "metadata": {},
   "outputs": [],
   "source": [
    "gimlet_com2 = gimlet_com2[['subreddit', 'author', 'body', 'created_utc']]"
   ]
  },
  {
   "cell_type": "code",
   "execution_count": 284,
   "metadata": {},
   "outputs": [
    {
     "data": {
      "text/plain": [
       "subreddit                                                 gimlet\n",
       "author                                               13104598210\n",
       "body            #2 Gregor is always what I recommend to peopl...\n",
       "created_utc                                           1574999373\n",
       "dtype: object"
      ]
     },
     "execution_count": 284,
     "metadata": {},
     "output_type": "execute_result"
    }
   ],
   "source": [
    "gimlet_com2.min()"
   ]
  },
  {
   "cell_type": "code",
   "execution_count": 285,
   "metadata": {},
   "outputs": [],
   "source": [
    "gimlet_com3 = get_reddit_comments('gimlet', 1574999373)"
   ]
  },
  {
   "cell_type": "code",
   "execution_count": 286,
   "metadata": {},
   "outputs": [],
   "source": [
    "gimlet_com3 = gimlet_com3[['subreddit', 'author', 'body', 'created_utc']]"
   ]
  },
  {
   "cell_type": "code",
   "execution_count": 287,
   "metadata": {},
   "outputs": [
    {
     "data": {
      "text/plain": [
       "subreddit                                                 gimlet\n",
       "author                                               13104598210\n",
       "body            Another biased report using real science to g...\n",
       "created_utc                                           1573314112\n",
       "dtype: object"
      ]
     },
     "execution_count": 287,
     "metadata": {},
     "output_type": "execute_result"
    }
   ],
   "source": [
    "gimlet_com3.min()"
   ]
  },
  {
   "cell_type": "code",
   "execution_count": 288,
   "metadata": {},
   "outputs": [],
   "source": [
    "gimlet_com4 = get_reddit_comments('gimlet', 1573314112)"
   ]
  },
  {
   "cell_type": "code",
   "execution_count": 289,
   "metadata": {},
   "outputs": [],
   "source": [
    "gimlet_com4 = gimlet_com4[['subreddit', 'author', 'body', 'created_utc']]"
   ]
  },
  {
   "cell_type": "code",
   "execution_count": 290,
   "metadata": {},
   "outputs": [
    {
     "data": {
      "text/plain": [
       "subreddit                                                 gimlet\n",
       "author                                                  -Teekey-\n",
       "body           \\nYep, they could do a whole segment on the cr...\n",
       "created_utc                                           1571762316\n",
       "dtype: object"
      ]
     },
     "execution_count": 290,
     "metadata": {},
     "output_type": "execute_result"
    }
   ],
   "source": [
    "gimlet_com4.min()"
   ]
  },
  {
   "cell_type": "code",
   "execution_count": 295,
   "metadata": {},
   "outputs": [],
   "source": [
    "gimlet_com5 = get_reddit_comments('gimlet', 1571762316)"
   ]
  },
  {
   "cell_type": "code",
   "execution_count": 296,
   "metadata": {},
   "outputs": [],
   "source": [
    "gimlet_com5 = gimlet_com5[['subreddit', 'author', 'body', 'created_utc']]"
   ]
  },
  {
   "cell_type": "code",
   "execution_count": 297,
   "metadata": {},
   "outputs": [
    {
     "data": {
      "text/plain": [
       "subreddit                                                 gimlet\n",
       "author                                                    109876\n",
       "body           \\n“Matt Lieber is &gt;!spoiler starting a new ...\n",
       "created_utc                                           1570215341\n",
       "dtype: object"
      ]
     },
     "execution_count": 297,
     "metadata": {},
     "output_type": "execute_result"
    }
   ],
   "source": [
    "gimlet_com5.min()"
   ]
  },
  {
   "cell_type": "code",
   "execution_count": 298,
   "metadata": {},
   "outputs": [],
   "source": [
    "gimlet_com6 = get_reddit_comments('gimlet', 1570215341)"
   ]
  },
  {
   "cell_type": "code",
   "execution_count": 299,
   "metadata": {},
   "outputs": [],
   "source": [
    "gimlet_com6 = gimlet_com6[['subreddit', 'author', 'body', 'created_utc']]"
   ]
  },
  {
   "cell_type": "code",
   "execution_count": 300,
   "metadata": {},
   "outputs": [
    {
     "data": {
      "text/plain": [
       "subreddit                                                 gimlet\n",
       "author                                                      -n0x\n",
       "body            I’ll have to resubscribe!  Thanks for the upd...\n",
       "created_utc                                           1567931927\n",
       "dtype: object"
      ]
     },
     "execution_count": 300,
     "metadata": {},
     "output_type": "execute_result"
    }
   ],
   "source": [
    "gimlet_com6.min()"
   ]
  },
  {
   "cell_type": "code",
   "execution_count": 301,
   "metadata": {},
   "outputs": [],
   "source": [
    "gimlet_com7 = get_reddit_comments('gimlet', 1567931927)"
   ]
  },
  {
   "cell_type": "code",
   "execution_count": 302,
   "metadata": {},
   "outputs": [],
   "source": [
    "gimlet_com7 = gimlet_com7[['subreddit', 'author', 'body', 'created_utc']]"
   ]
  },
  {
   "cell_type": "code",
   "execution_count": 303,
   "metadata": {},
   "outputs": [
    {
     "data": {
      "text/plain": [
       "subreddit                                                 gimlet\n",
       "author                                          -StevieJanowski-\n",
       "body           \"Great journalist and communicator\"\\n\\nUpvoted...\n",
       "created_utc                                           1565337684\n",
       "dtype: object"
      ]
     },
     "execution_count": 303,
     "metadata": {},
     "output_type": "execute_result"
    }
   ],
   "source": [
    "gimlet_com7.min()"
   ]
  },
  {
   "cell_type": "code",
   "execution_count": 304,
   "metadata": {},
   "outputs": [],
   "source": [
    "gimlet_com8 = get_reddit_comments('gimlet', 1565337684)"
   ]
  },
  {
   "cell_type": "code",
   "execution_count": 305,
   "metadata": {},
   "outputs": [],
   "source": [
    "gimlet_com8 = gimlet_com8[['subreddit', 'author', 'body', 'created_utc']]"
   ]
  },
  {
   "cell_type": "code",
   "execution_count": 306,
   "metadata": {},
   "outputs": [
    {
     "data": {
      "text/plain": [
       "subreddit                                     gimlet\n",
       "author                                      -Teekey-\n",
       "body           \\nhttps://en.wikipedia.org/wiki/Incel\n",
       "created_utc                               1563200750\n",
       "dtype: object"
      ]
     },
     "execution_count": 306,
     "metadata": {},
     "output_type": "execute_result"
    }
   ],
   "source": [
    "gimlet_com8.min()"
   ]
  },
  {
   "cell_type": "code",
   "execution_count": 311,
   "metadata": {},
   "outputs": [],
   "source": [
    "gimlet_com9 = get_reddit_comments('gimlet', 1563200750)"
   ]
  },
  {
   "cell_type": "code",
   "execution_count": 312,
   "metadata": {},
   "outputs": [],
   "source": [
    "gimlet_com9 = gimlet_com9[['subreddit', 'author', 'body', 'created_utc']]"
   ]
  },
  {
   "cell_type": "code",
   "execution_count": 313,
   "metadata": {},
   "outputs": [
    {
     "data": {
      "text/plain": [
       "subreddit                                                 gimlet\n",
       "author                                          --Justathrowaway\n",
       "body            If you like long rambling conversations that ...\n",
       "created_utc                                           1561660350\n",
       "dtype: object"
      ]
     },
     "execution_count": 313,
     "metadata": {},
     "output_type": "execute_result"
    }
   ],
   "source": [
    "gimlet_com9.min()"
   ]
  },
  {
   "cell_type": "code",
   "execution_count": 62,
   "metadata": {},
   "outputs": [],
   "source": [
    "gimlet_com10 = get_reddit_comments('gimlet', 1561660350)"
   ]
  },
  {
   "cell_type": "code",
   "execution_count": 63,
   "metadata": {},
   "outputs": [],
   "source": [
    "gimlet_com10 = gimlet_com10[['subreddit', 'author', 'body', 'created_utc']]"
   ]
  },
  {
   "cell_type": "code",
   "execution_count": 64,
   "metadata": {},
   "outputs": [
    {
     "data": {
      "text/plain": [
       "subreddit                                                 gimlet\n",
       "author                                                  -Teekey-\n",
       "body           &gt; Can we talk about reply all??\\n\\n[We do. ...\n",
       "created_utc                                           1559631786\n",
       "dtype: object"
      ]
     },
     "execution_count": 64,
     "metadata": {},
     "output_type": "execute_result"
    }
   ],
   "source": [
    "gimlet_com10.min()"
   ]
  },
  {
   "cell_type": "code",
   "execution_count": 65,
   "metadata": {},
   "outputs": [],
   "source": [
    "gimlet_com11 = get_reddit_comments('gimlet', 1559631786)"
   ]
  },
  {
   "cell_type": "code",
   "execution_count": 66,
   "metadata": {},
   "outputs": [],
   "source": [
    "gimlet_com11 = gimlet_com11[['subreddit', 'author', 'body', 'created_utc']]"
   ]
  },
  {
   "cell_type": "code",
   "execution_count": 67,
   "metadata": {},
   "outputs": [
    {
     "data": {
      "text/plain": [
       "subreddit                                                 gimlet\n",
       "author                                         -Merrick-Baliton-\n",
       "body            Not true. They are releasing the episodes wee...\n",
       "created_utc                                           1557420807\n",
       "dtype: object"
      ]
     },
     "execution_count": 67,
     "metadata": {},
     "output_type": "execute_result"
    }
   ],
   "source": [
    "gimlet_com11.min()"
   ]
  },
  {
   "cell_type": "code",
   "execution_count": 68,
   "metadata": {},
   "outputs": [],
   "source": [
    "gimlet_com12 = get_reddit_comments('gimlet', 1557420807)"
   ]
  },
  {
   "cell_type": "code",
   "execution_count": 69,
   "metadata": {},
   "outputs": [],
   "source": [
    "gimlet_com12 = gimlet_com12[['subreddit', 'author', 'body', 'created_utc']]"
   ]
  },
  {
   "cell_type": "code",
   "execution_count": 70,
   "metadata": {},
   "outputs": [
    {
     "data": {
      "text/plain": [
       "subreddit                                                 gimlet\n",
       "author                                         1111thatsfiveones\n",
       "body           \"...I'm calling the police\"\\n\\n\"Oh, you defini...\n",
       "created_utc                                           1555810652\n",
       "dtype: object"
      ]
     },
     "execution_count": 70,
     "metadata": {},
     "output_type": "execute_result"
    }
   ],
   "source": [
    "gimlet_com12.min()"
   ]
  },
  {
   "cell_type": "code",
   "execution_count": 71,
   "metadata": {},
   "outputs": [],
   "source": [
    "gimlet_com13 = get_reddit_comments('gimlet', 1555810652)"
   ]
  },
  {
   "cell_type": "code",
   "execution_count": 72,
   "metadata": {},
   "outputs": [],
   "source": [
    "gimlet_com13 = gimlet_com13[['subreddit', 'author', 'body', 'created_utc']]"
   ]
  },
  {
   "cell_type": "code",
   "execution_count": 73,
   "metadata": {},
   "outputs": [
    {
     "data": {
      "text/plain": [
       "subreddit                                                 gimlet\n",
       "author                                                    -DEAD-\n",
       "body            [https://twitter.com/sruthiri/status/11192870...\n",
       "created_utc                                           1555007585\n",
       "dtype: object"
      ]
     },
     "execution_count": 73,
     "metadata": {},
     "output_type": "execute_result"
    }
   ],
   "source": [
    "gimlet_com13.min()"
   ]
  },
  {
   "cell_type": "code",
   "execution_count": 74,
   "metadata": {},
   "outputs": [],
   "source": [
    "gimlet_com14 = get_reddit_comments('gimlet', 1555007585)"
   ]
  },
  {
   "cell_type": "code",
   "execution_count": 75,
   "metadata": {},
   "outputs": [],
   "source": [
    "gimlet_com14 = gimlet_com14[['subreddit', 'author', 'body', 'created_utc']]"
   ]
  },
  {
   "cell_type": "code",
   "execution_count": 76,
   "metadata": {},
   "outputs": [
    {
     "data": {
      "text/plain": [
       "subreddit          gimlet\n",
       "author           -Teekey-\n",
       "body            #TeamAlex\n",
       "created_utc    1553881779\n",
       "dtype: object"
      ]
     },
     "execution_count": 76,
     "metadata": {},
     "output_type": "execute_result"
    }
   ],
   "source": [
    "gimlet_com14.min()"
   ]
  },
  {
   "cell_type": "code",
   "execution_count": 7,
   "metadata": {},
   "outputs": [],
   "source": [
    "gimlet_com15 = get_reddit_comments('gimlet', 1553881779)"
   ]
  },
  {
   "cell_type": "code",
   "execution_count": 8,
   "metadata": {},
   "outputs": [],
   "source": [
    "gimlet_com15 = gimlet_com15[['subreddit', 'author', 'body', 'created_utc']]"
   ]
  },
  {
   "cell_type": "code",
   "execution_count": 9,
   "metadata": {},
   "outputs": [
    {
     "data": {
      "text/plain": [
       "subreddit                                                 gimlet\n",
       "author                                      01101001100101101001\n",
       "body            It's geared towards the same crowd of younger...\n",
       "created_utc                                           1553281427\n",
       "dtype: object"
      ]
     },
     "execution_count": 9,
     "metadata": {},
     "output_type": "execute_result"
    }
   ],
   "source": [
    "gimlet_com15.min()"
   ]
  },
  {
   "cell_type": "code",
   "execution_count": 333,
   "metadata": {},
   "outputs": [],
   "source": [
    "# Concatenating the gimlet submissions \n",
    "gimlet_submissions = pd.concat([gimlet_sub1, gimlet_sub2, gimlet_sub3, gimlet_sub4, gimlet_sub5], sort=True)"
   ]
  },
  {
   "cell_type": "code",
   "execution_count": 334,
   "metadata": {},
   "outputs": [
    {
     "data": {
      "text/plain": [
       "(2500, 5)"
      ]
     },
     "execution_count": 334,
     "metadata": {},
     "output_type": "execute_result"
    }
   ],
   "source": [
    "gimlet_submissions.shape"
   ]
  },
  {
   "cell_type": "code",
   "execution_count": 335,
   "metadata": {},
   "outputs": [
    {
     "data": {
      "text/html": [
       "<div>\n",
       "<style scoped>\n",
       "    .dataframe tbody tr th:only-of-type {\n",
       "        vertical-align: middle;\n",
       "    }\n",
       "\n",
       "    .dataframe tbody tr th {\n",
       "        vertical-align: top;\n",
       "    }\n",
       "\n",
       "    .dataframe thead th {\n",
       "        text-align: right;\n",
       "    }\n",
       "</style>\n",
       "<table border=\"1\" class=\"dataframe\">\n",
       "  <thead>\n",
       "    <tr style=\"text-align: right;\">\n",
       "      <th></th>\n",
       "      <th>author</th>\n",
       "      <th>created_utc</th>\n",
       "      <th>selftext</th>\n",
       "      <th>subreddit</th>\n",
       "      <th>title</th>\n",
       "    </tr>\n",
       "  </thead>\n",
       "  <tbody>\n",
       "    <tr>\n",
       "      <th>0</th>\n",
       "      <td>nsermo</td>\n",
       "      <td>1579933396</td>\n",
       "      <td>Ok, so I've been thinking this ever since I li...</td>\n",
       "      <td>gimlet</td>\n",
       "      <td>Heavyweight: Gregor kinda sucks</td>\n",
       "    </tr>\n",
       "    <tr>\n",
       "      <th>1</th>\n",
       "      <td>omarlittle22</td>\n",
       "      <td>1579811974</td>\n",
       "      <td>Last week it said there would not be an episod...</td>\n",
       "      <td>gimlet</td>\n",
       "      <td>replyall.fyi is playing games with my heart.</td>\n",
       "    </tr>\n",
       "    <tr>\n",
       "      <th>2</th>\n",
       "      <td>Gimleteer</td>\n",
       "      <td>1579770023</td>\n",
       "      <td></td>\n",
       "      <td>gimlet</td>\n",
       "      <td>Motherhood Sessions - Just Sh*t Luck</td>\n",
       "    </tr>\n",
       "    <tr>\n",
       "      <th>3</th>\n",
       "      <td>jasmineblue0202</td>\n",
       "      <td>1579751680</td>\n",
       "      <td></td>\n",
       "      <td>gimlet</td>\n",
       "      <td>I Got Addicted to Heroin in Front of 1.5 Milli...</td>\n",
       "    </tr>\n",
       "    <tr>\n",
       "      <th>4</th>\n",
       "      <td>saward92</td>\n",
       "      <td>1579749714</td>\n",
       "      <td></td>\n",
       "      <td>gimlet</td>\n",
       "      <td>Do we know why it's been more than a month sin...</td>\n",
       "    </tr>\n",
       "  </tbody>\n",
       "</table>\n",
       "</div>"
      ],
      "text/plain": [
       "            author  created_utc  \\\n",
       "0           nsermo   1579933396   \n",
       "1     omarlittle22   1579811974   \n",
       "2        Gimleteer   1579770023   \n",
       "3  jasmineblue0202   1579751680   \n",
       "4         saward92   1579749714   \n",
       "\n",
       "                                            selftext subreddit  \\\n",
       "0  Ok, so I've been thinking this ever since I li...    gimlet   \n",
       "1  Last week it said there would not be an episod...    gimlet   \n",
       "2                                                       gimlet   \n",
       "3                                                       gimlet   \n",
       "4                                                       gimlet   \n",
       "\n",
       "                                               title  \n",
       "0                    Heavyweight: Gregor kinda sucks  \n",
       "1       replyall.fyi is playing games with my heart.  \n",
       "2               Motherhood Sessions - Just Sh*t Luck  \n",
       "3  I Got Addicted to Heroin in Front of 1.5 Milli...  \n",
       "4  Do we know why it's been more than a month sin...  "
      ]
     },
     "execution_count": 335,
     "metadata": {},
     "output_type": "execute_result"
    }
   ],
   "source": [
    "gimlet_submissions.head()"
   ]
  },
  {
   "cell_type": "code",
   "execution_count": 336,
   "metadata": {},
   "outputs": [],
   "source": [
    "# Concatenating the first set of gimlet comments \n",
    "gimlet_comments = pd.concat([gimlet_com1, gimlet_com2, gimlet_com3, gimlet_com4, gimlet_com5, gimlet_com6, gimlet_com7, gimlet_com8, gimlet_com9, gimlet_com10], sort=True)"
   ]
  },
  {
   "cell_type": "code",
   "execution_count": 337,
   "metadata": {},
   "outputs": [
    {
     "data": {
      "text/plain": [
       "(5000, 4)"
      ]
     },
     "execution_count": 337,
     "metadata": {},
     "output_type": "execute_result"
    }
   ],
   "source": [
    "gimlet_comments.shape"
   ]
  },
  {
   "cell_type": "code",
   "execution_count": 338,
   "metadata": {},
   "outputs": [
    {
     "data": {
      "text/html": [
       "<div>\n",
       "<style scoped>\n",
       "    .dataframe tbody tr th:only-of-type {\n",
       "        vertical-align: middle;\n",
       "    }\n",
       "\n",
       "    .dataframe tbody tr th {\n",
       "        vertical-align: top;\n",
       "    }\n",
       "\n",
       "    .dataframe thead th {\n",
       "        text-align: right;\n",
       "    }\n",
       "</style>\n",
       "<table border=\"1\" class=\"dataframe\">\n",
       "  <thead>\n",
       "    <tr style=\"text-align: right;\">\n",
       "      <th></th>\n",
       "      <th>author</th>\n",
       "      <th>body</th>\n",
       "      <th>created_utc</th>\n",
       "      <th>subreddit</th>\n",
       "    </tr>\n",
       "  </thead>\n",
       "  <tbody>\n",
       "    <tr>\n",
       "      <th>0</th>\n",
       "      <td>parachuge</td>\n",
       "      <td>But I still think we don't have enough info. l...</td>\n",
       "      <td>1579986947</td>\n",
       "      <td>gimlet</td>\n",
       "    </tr>\n",
       "    <tr>\n",
       "      <th>1</th>\n",
       "      <td>xauronx</td>\n",
       "      <td>Well at least you sound thoughtful... I like t...</td>\n",
       "      <td>1579984041</td>\n",
       "      <td>gimlet</td>\n",
       "    </tr>\n",
       "    <tr>\n",
       "      <th>2</th>\n",
       "      <td>nsermo</td>\n",
       "      <td>Mediocre white dudes are usually their own ent...</td>\n",
       "      <td>1579983477</td>\n",
       "      <td>gimlet</td>\n",
       "    </tr>\n",
       "    <tr>\n",
       "      <th>3</th>\n",
       "      <td>alyak1000</td>\n",
       "      <td>Yesss!!! Imo those are the best episodes yet!!</td>\n",
       "      <td>1579983395</td>\n",
       "      <td>gimlet</td>\n",
       "    </tr>\n",
       "    <tr>\n",
       "      <th>4</th>\n",
       "      <td>nsermo</td>\n",
       "      <td>Hey man I liked curb your enthusiasm when I wa...</td>\n",
       "      <td>1579983199</td>\n",
       "      <td>gimlet</td>\n",
       "    </tr>\n",
       "  </tbody>\n",
       "</table>\n",
       "</div>"
      ],
      "text/plain": [
       "      author                                               body  created_utc  \\\n",
       "0  parachuge  But I still think we don't have enough info. l...   1579986947   \n",
       "1    xauronx  Well at least you sound thoughtful... I like t...   1579984041   \n",
       "2     nsermo  Mediocre white dudes are usually their own ent...   1579983477   \n",
       "3  alyak1000     Yesss!!! Imo those are the best episodes yet!!   1579983395   \n",
       "4     nsermo  Hey man I liked curb your enthusiasm when I wa...   1579983199   \n",
       "\n",
       "  subreddit  \n",
       "0    gimlet  \n",
       "1    gimlet  \n",
       "2    gimlet  \n",
       "3    gimlet  \n",
       "4    gimlet  "
      ]
     },
     "execution_count": 338,
     "metadata": {},
     "output_type": "execute_result"
    }
   ],
   "source": [
    "gimlet_comments.head()"
   ]
  },
  {
   "cell_type": "code",
   "execution_count": 79,
   "metadata": {},
   "outputs": [],
   "source": [
    "# Concatenating the second set of Gimlet Comments\n",
    "gimlet_comments2 = pd.concat([gimlet_com11, gimlet_com12, gimlet_com13, gimlet_com14, gimlet_com15], sort=True)"
   ]
  },
  {
   "cell_type": "code",
   "execution_count": 1,
   "metadata": {},
   "outputs": [],
   "source": [
    "# Saving the Gimlet submissions to a csv\n",
    "gimlet_submissions.to_csv('./data/gimlet_submissions.csv', index=False)"
   ]
  },
  {
   "cell_type": "code",
   "execution_count": 340,
   "metadata": {},
   "outputs": [],
   "source": [
    "# Saving the first set of Gimlet comments to a csv\n",
    "gimlet_comments.to_csv('./data/gimlet_comments.csv', index=False)"
   ]
  },
  {
   "cell_type": "code",
   "execution_count": 82,
   "metadata": {},
   "outputs": [
    {
     "data": {
      "text/html": [
       "<div>\n",
       "<style scoped>\n",
       "    .dataframe tbody tr th:only-of-type {\n",
       "        vertical-align: middle;\n",
       "    }\n",
       "\n",
       "    .dataframe tbody tr th {\n",
       "        vertical-align: top;\n",
       "    }\n",
       "\n",
       "    .dataframe thead th {\n",
       "        text-align: right;\n",
       "    }\n",
       "</style>\n",
       "<table border=\"1\" class=\"dataframe\">\n",
       "  <thead>\n",
       "    <tr style=\"text-align: right;\">\n",
       "      <th></th>\n",
       "      <th>author</th>\n",
       "      <th>body</th>\n",
       "      <th>created_utc</th>\n",
       "      <th>subreddit</th>\n",
       "    </tr>\n",
       "  </thead>\n",
       "  <tbody>\n",
       "    <tr>\n",
       "      <th>0</th>\n",
       "      <td>topangaismyhero</td>\n",
       "      <td>I really like The Boy in the Photograph</td>\n",
       "      <td>1559629392</td>\n",
       "      <td>gimlet</td>\n",
       "    </tr>\n",
       "    <tr>\n",
       "      <th>1</th>\n",
       "      <td>ArchGoodwin</td>\n",
       "      <td>I love The Takeover.</td>\n",
       "      <td>1559625334</td>\n",
       "      <td>gimlet</td>\n",
       "    </tr>\n",
       "    <tr>\n",
       "      <th>2</th>\n",
       "      <td>zachbaum</td>\n",
       "      <td>Mason Reese</td>\n",
       "      <td>1559621704</td>\n",
       "      <td>gimlet</td>\n",
       "    </tr>\n",
       "    <tr>\n",
       "      <th>3</th>\n",
       "      <td>nerdefef</td>\n",
       "      <td>The boy in the photo</td>\n",
       "      <td>1559621065</td>\n",
       "      <td>gimlet</td>\n",
       "    </tr>\n",
       "    <tr>\n",
       "      <th>4</th>\n",
       "      <td>RedKibble</td>\n",
       "      <td>I’ve listened to Phantom Caller a dozen times ...</td>\n",
       "      <td>1559620941</td>\n",
       "      <td>gimlet</td>\n",
       "    </tr>\n",
       "  </tbody>\n",
       "</table>\n",
       "</div>"
      ],
      "text/plain": [
       "            author                                               body  \\\n",
       "0  topangaismyhero            I really like The Boy in the Photograph   \n",
       "1      ArchGoodwin                               I love The Takeover.   \n",
       "2         zachbaum                                        Mason Reese   \n",
       "3         nerdefef                               The boy in the photo   \n",
       "4        RedKibble  I’ve listened to Phantom Caller a dozen times ...   \n",
       "\n",
       "   created_utc subreddit  \n",
       "0   1559629392    gimlet  \n",
       "1   1559625334    gimlet  \n",
       "2   1559621704    gimlet  \n",
       "3   1559621065    gimlet  \n",
       "4   1559620941    gimlet  "
      ]
     },
     "execution_count": 82,
     "metadata": {},
     "output_type": "execute_result"
    }
   ],
   "source": [
    "gimlet_comments2.head()"
   ]
  },
  {
   "cell_type": "code",
   "execution_count": 83,
   "metadata": {},
   "outputs": [],
   "source": [
    "# Saving the second set of Gimlet comments to a csv \n",
    "gimlet_comments2.to_csv('./data/gimlet_comments2.csv', index=False)"
   ]
  },
  {
   "cell_type": "code",
   "execution_count": null,
   "metadata": {},
   "outputs": [],
   "source": []
  }
 ],
 "metadata": {
  "kernelspec": {
   "display_name": "Python 3",
   "language": "python",
   "name": "python3"
  },
  "language_info": {
   "codemirror_mode": {
    "name": "ipython",
    "version": 3
   },
   "file_extension": ".py",
   "mimetype": "text/x-python",
   "name": "python",
   "nbconvert_exporter": "python",
   "pygments_lexer": "ipython3",
   "version": "3.7.6"
  }
 },
 "nbformat": 4,
 "nbformat_minor": 4
}
