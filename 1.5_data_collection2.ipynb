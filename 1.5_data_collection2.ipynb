{
 "cells": [
  {
   "cell_type": "markdown",
   "metadata": {},
   "source": [
    "# Data Collection, Part II\n",
    "\n",
    "### I decided to follow the same process as in the previous notebook to collect 5000 more comments for each subreddit. I decided to do more comments because I had submissions that went much further back than the comments I had. This is again just following the same process I did for the previous notebook. I ran the function for another 10 times and saved the resulting dataframes to csv. "
   ]
  },
  {
   "cell_type": "code",
   "execution_count": 143,
   "metadata": {},
   "outputs": [],
   "source": [
    "import requests\n",
    "import pandas as pd"
   ]
  },
  {
   "cell_type": "code",
   "execution_count": 144,
   "metadata": {},
   "outputs": [],
   "source": [
    "def get_reddit_submissions(subreddit, UTC):\n",
    "    \n",
    "    url = 'https://api.pushshift.io/reddit/search/submission'\n",
    "    \n",
    "    params = {\n",
    "        'subreddit': subreddit,\n",
    "        'size': 500, \n",
    "        'before': UTC\n",
    "    }\n",
    "\n",
    "    response = requests.get(url, params)\n",
    "\n",
    "    data = response.json()\n",
    "\n",
    "    posts = data['data']\n",
    "\n",
    "    return pd.DataFrame(posts)"
   ]
  },
  {
   "cell_type": "code",
   "execution_count": 145,
   "metadata": {},
   "outputs": [],
   "source": [
    "def get_reddit_comments(subreddit, UTC):\n",
    "    \n",
    "    url = 'https://api.pushshift.io/reddit/search/comment'\n",
    "\n",
    "    params = {\n",
    "        'subreddit': subreddit,\n",
    "        'size': 500, \n",
    "        'before': UTC\n",
    "    }\n",
    "\n",
    "    response = requests.get(url, params)\n",
    "\n",
    "    data = response.json()\n",
    "\n",
    "    posts = data['data']\n",
    "\n",
    "    return pd.DataFrame(posts)"
   ]
  },
  {
   "cell_type": "code",
   "execution_count": 146,
   "metadata": {},
   "outputs": [],
   "source": [
    "max_fun_comments16 = get_reddit_comments('maximumfun', 1556127743)"
   ]
  },
  {
   "cell_type": "code",
   "execution_count": 147,
   "metadata": {},
   "outputs": [],
   "source": [
    "max_fun_comments16 = max_fun_comments16[['subreddit', 'author', 'body', 'created_utc']]"
   ]
  },
  {
   "cell_type": "code",
   "execution_count": 148,
   "metadata": {},
   "outputs": [
    {
     "data": {
      "text/plain": [
       "subreddit                                             maximumfun\n",
       "author                                             1000000Ghosts\n",
       "body            region rock is punk from the north florida / ...\n",
       "created_utc                                           1554578726\n",
       "dtype: object"
      ]
     },
     "execution_count": 148,
     "metadata": {},
     "output_type": "execute_result"
    }
   ],
   "source": [
    "max_fun_comments16.min()"
   ]
  },
  {
   "cell_type": "code",
   "execution_count": 149,
   "metadata": {},
   "outputs": [],
   "source": [
    "max_fun_comments17 = get_reddit_comments('maximumfun', 1554578726)"
   ]
  },
  {
   "cell_type": "code",
   "execution_count": 150,
   "metadata": {},
   "outputs": [],
   "source": [
    "max_fun_comments17 = max_fun_comments17[['subreddit', 'author', 'body', 'created_utc']]"
   ]
  },
  {
   "cell_type": "code",
   "execution_count": 151,
   "metadata": {},
   "outputs": [
    {
     "data": {
      "text/plain": [
       "subreddit                                       maximumfun\n",
       "author                                            -jupiter\n",
       "body            Did you listen to the most recent episode?\n",
       "created_utc                                     1553822690\n",
       "dtype: object"
      ]
     },
     "execution_count": 151,
     "metadata": {},
     "output_type": "execute_result"
    }
   ],
   "source": [
    "max_fun_comments17.min()"
   ]
  },
  {
   "cell_type": "code",
   "execution_count": 152,
   "metadata": {},
   "outputs": [],
   "source": [
    "max_fun_comments18 = get_reddit_comments('maximumfun', 1553822690)"
   ]
  },
  {
   "cell_type": "code",
   "execution_count": 153,
   "metadata": {},
   "outputs": [],
   "source": [
    "max_fun_comments18 = max_fun_comments18[['subreddit', 'author', 'body', 'created_utc']]"
   ]
  },
  {
   "cell_type": "code",
   "execution_count": 154,
   "metadata": {},
   "outputs": [
    {
     "data": {
      "text/plain": [
       "subreddit      maximumfun\n",
       "author          ANKhurley\n",
       "body            Very good\n",
       "created_utc    1553116769\n",
       "dtype: object"
      ]
     },
     "execution_count": 154,
     "metadata": {},
     "output_type": "execute_result"
    }
   ],
   "source": [
    "max_fun_comments18.min()"
   ]
  },
  {
   "cell_type": "code",
   "execution_count": 155,
   "metadata": {},
   "outputs": [],
   "source": [
    "max_fun_comments19 = get_reddit_comments('maximumfun', 1553116769)"
   ]
  },
  {
   "cell_type": "code",
   "execution_count": 156,
   "metadata": {},
   "outputs": [],
   "source": [
    "max_fun_comments19 = max_fun_comments19[['subreddit', 'author', 'body', 'created_utc']]"
   ]
  },
  {
   "cell_type": "code",
   "execution_count": 157,
   "metadata": {},
   "outputs": [
    {
     "data": {
      "text/plain": [
       "subreddit                                             maximumfun\n",
       "author                                              -littlefang-\n",
       "body           \"Hippocratic Oath\" aired the week of October 1...\n",
       "created_utc                                           1552074827\n",
       "dtype: object"
      ]
     },
     "execution_count": 157,
     "metadata": {},
     "output_type": "execute_result"
    }
   ],
   "source": [
    "max_fun_comments19.min()"
   ]
  },
  {
   "cell_type": "code",
   "execution_count": 158,
   "metadata": {},
   "outputs": [],
   "source": [
    "max_fun_comments20 = get_reddit_comments('maximumfun', 1552074827)"
   ]
  },
  {
   "cell_type": "code",
   "execution_count": 159,
   "metadata": {},
   "outputs": [],
   "source": [
    "max_fun_comments20 = max_fun_comments20[['subreddit', 'author', 'body', 'created_utc']]"
   ]
  },
  {
   "cell_type": "code",
   "execution_count": 160,
   "metadata": {},
   "outputs": [
    {
     "data": {
      "text/plain": [
       "subreddit                                             maximumfun\n",
       "author                                                      4a4a\n",
       "body            Ben Harrison mentioned that pork chops are on...\n",
       "created_utc                                           1550256210\n",
       "dtype: object"
      ]
     },
     "execution_count": 160,
     "metadata": {},
     "output_type": "execute_result"
    }
   ],
   "source": [
    "max_fun_comments20.min()"
   ]
  },
  {
   "cell_type": "code",
   "execution_count": 161,
   "metadata": {},
   "outputs": [],
   "source": [
    "max_fun_comments21 = get_reddit_comments('maximumfun', 1550256210)"
   ]
  },
  {
   "cell_type": "code",
   "execution_count": 162,
   "metadata": {},
   "outputs": [],
   "source": [
    "max_fun_comments21 = max_fun_comments21[['subreddit', 'author', 'body', 'created_utc']]"
   ]
  },
  {
   "cell_type": "code",
   "execution_count": 163,
   "metadata": {},
   "outputs": [
    {
     "data": {
      "text/plain": [
       "subreddit                                             maximumfun\n",
       "author                                                    90andt\n",
       "body           \" I want him to have what he wants but I want ...\n",
       "created_utc                                           1548816469\n",
       "dtype: object"
      ]
     },
     "execution_count": 163,
     "metadata": {},
     "output_type": "execute_result"
    }
   ],
   "source": [
    "max_fun_comments21.min()"
   ]
  },
  {
   "cell_type": "code",
   "execution_count": 164,
   "metadata": {},
   "outputs": [],
   "source": [
    "max_fun_comments22 = get_reddit_comments('maximumfun', 1548816469)"
   ]
  },
  {
   "cell_type": "code",
   "execution_count": 165,
   "metadata": {},
   "outputs": [],
   "source": [
    "max_fun_comments22 = max_fun_comments22[['subreddit', 'author', 'body', 'created_utc']]"
   ]
  },
  {
   "cell_type": "code",
   "execution_count": 166,
   "metadata": {},
   "outputs": [
    {
     "data": {
      "text/plain": [
       "subreddit                                             maximumfun\n",
       "author                                          0011110000110011\n",
       "body            Here is the link to contact Ross and Carrie h...\n",
       "created_utc                                           1547056418\n",
       "dtype: object"
      ]
     },
     "execution_count": 166,
     "metadata": {},
     "output_type": "execute_result"
    }
   ],
   "source": [
    "max_fun_comments22.min()"
   ]
  },
  {
   "cell_type": "code",
   "execution_count": 167,
   "metadata": {},
   "outputs": [],
   "source": [
    "max_fun_comments23 = get_reddit_comments('maximumfun', 1547056418)"
   ]
  },
  {
   "cell_type": "code",
   "execution_count": 168,
   "metadata": {},
   "outputs": [],
   "source": [
    "max_fun_comments23 = max_fun_comments23[['subreddit', 'author', 'body', 'created_utc']]"
   ]
  },
  {
   "cell_type": "code",
   "execution_count": 169,
   "metadata": {},
   "outputs": [
    {
     "data": {
      "text/plain": [
       "subreddit                                             maximumfun\n",
       "author                                          0011110000110011\n",
       "body            Needs a Cthulhu wacky dancer or inflatable.  ...\n",
       "created_utc                                           1545198153\n",
       "dtype: object"
      ]
     },
     "execution_count": 169,
     "metadata": {},
     "output_type": "execute_result"
    }
   ],
   "source": [
    "max_fun_comments23.min()"
   ]
  },
  {
   "cell_type": "code",
   "execution_count": 170,
   "metadata": {},
   "outputs": [],
   "source": [
    "max_fun_comments24 = get_reddit_comments('maximumfun', 1545198153)"
   ]
  },
  {
   "cell_type": "code",
   "execution_count": 171,
   "metadata": {},
   "outputs": [],
   "source": [
    "max_fun_comments24 = max_fun_comments24[['subreddit', 'author', 'body', 'created_utc']]"
   ]
  },
  {
   "cell_type": "code",
   "execution_count": 172,
   "metadata": {},
   "outputs": [
    {
     "data": {
      "text/plain": [
       "subreddit                                             maximumfun\n",
       "author                                          0011110000110011\n",
       "body           \"Don't come in my house and piss on my rug\" is...\n",
       "created_utc                                           1543833961\n",
       "dtype: object"
      ]
     },
     "execution_count": 172,
     "metadata": {},
     "output_type": "execute_result"
    }
   ],
   "source": [
    "max_fun_comments24.min()"
   ]
  },
  {
   "cell_type": "code",
   "execution_count": 173,
   "metadata": {},
   "outputs": [],
   "source": [
    "max_fun_comments25 = get_reddit_comments('maximumfun', 1543833961)"
   ]
  },
  {
   "cell_type": "code",
   "execution_count": 174,
   "metadata": {},
   "outputs": [],
   "source": [
    "max_fun_comments25 = max_fun_comments25[['subreddit', 'author', 'body', 'created_utc']]"
   ]
  },
  {
   "cell_type": "code",
   "execution_count": 175,
   "metadata": {},
   "outputs": [
    {
     "data": {
      "text/plain": [
       "subreddit                  maximumfun\n",
       "author                 3-orange-whips\n",
       "body           !!! Helen Zaltzman !!!\n",
       "created_utc                1541726916\n",
       "dtype: object"
      ]
     },
     "execution_count": 175,
     "metadata": {},
     "output_type": "execute_result"
    }
   ],
   "source": [
    "max_fun_comments25.min()"
   ]
  },
  {
   "cell_type": "code",
   "execution_count": 176,
   "metadata": {},
   "outputs": [],
   "source": [
    "gimlet_comments16 = get_reddit_comments('gimlet', 1553281427)"
   ]
  },
  {
   "cell_type": "code",
   "execution_count": 177,
   "metadata": {},
   "outputs": [],
   "source": [
    "gimlet_comments16 = gimlet_comments16[['subreddit', 'author', 'body', 'created_utc']]"
   ]
  },
  {
   "cell_type": "code",
   "execution_count": 178,
   "metadata": {},
   "outputs": [
    {
     "data": {
      "text/plain": [
       "subreddit                                                 gimlet\n",
       "author                                                  16032613\n",
       "body            Cause if you never listened to it, you should...\n",
       "created_utc                                           1552315586\n",
       "dtype: object"
      ]
     },
     "execution_count": 178,
     "metadata": {},
     "output_type": "execute_result"
    }
   ],
   "source": [
    "gimlet_comments16.min()"
   ]
  },
  {
   "cell_type": "code",
   "execution_count": 179,
   "metadata": {},
   "outputs": [],
   "source": [
    "gimlet_comments17 = get_reddit_comments('gimlet', 1552315586)"
   ]
  },
  {
   "cell_type": "code",
   "execution_count": 180,
   "metadata": {},
   "outputs": [],
   "source": [
    "gimlet_comments17 = gimlet_comments17[['subreddit', 'author', 'body', 'created_utc']]"
   ]
  },
  {
   "cell_type": "code",
   "execution_count": 181,
   "metadata": {},
   "outputs": [
    {
     "data": {
      "text/plain": [
       "subreddit                                                 gimlet\n",
       "author                                                 -Badger2-\n",
       "body             This was a good episode. Not sure about the ...\n",
       "created_utc                                           1550499154\n",
       "dtype: object"
      ]
     },
     "execution_count": 181,
     "metadata": {},
     "output_type": "execute_result"
    }
   ],
   "source": [
    "gimlet_comments17.min()"
   ]
  },
  {
   "cell_type": "code",
   "execution_count": 182,
   "metadata": {},
   "outputs": [],
   "source": [
    "gimlet_comments18 = get_reddit_comments('gimlet', 1550499154)"
   ]
  },
  {
   "cell_type": "code",
   "execution_count": 183,
   "metadata": {},
   "outputs": [],
   "source": [
    "gimlet_comments18 = gimlet_comments18[['subreddit', 'author', 'body', 'created_utc']]"
   ]
  },
  {
   "cell_type": "code",
   "execution_count": 184,
   "metadata": {},
   "outputs": [
    {
     "data": {
      "text/plain": [
       "subreddit                                                 gimlet\n",
       "author                                                      --em\n",
       "body            I found the follow up with Sarah A. Downey pa...\n",
       "created_utc                                           1549582229\n",
       "dtype: object"
      ]
     },
     "execution_count": 184,
     "metadata": {},
     "output_type": "execute_result"
    }
   ],
   "source": [
    "gimlet_comments18.min()"
   ]
  },
  {
   "cell_type": "code",
   "execution_count": 185,
   "metadata": {},
   "outputs": [],
   "source": [
    "gimlet_comments19 = get_reddit_comments('gimlet', 1549582229)"
   ]
  },
  {
   "cell_type": "code",
   "execution_count": 186,
   "metadata": {},
   "outputs": [],
   "source": [
    "gimlet_comments19 = gimlet_comments19[['subreddit', 'author', 'body', 'created_utc']]"
   ]
  },
  {
   "cell_type": "code",
   "execution_count": 187,
   "metadata": {},
   "outputs": [
    {
     "data": {
      "text/plain": [
       "subreddit                                                 gimlet\n",
       "author                                                    109876\n",
       "body           \"Some ownership\" means nothing if you have les...\n",
       "created_utc                                           1549295316\n",
       "dtype: object"
      ]
     },
     "execution_count": 187,
     "metadata": {},
     "output_type": "execute_result"
    }
   ],
   "source": [
    "gimlet_comments19.min()"
   ]
  },
  {
   "cell_type": "code",
   "execution_count": 188,
   "metadata": {},
   "outputs": [],
   "source": [
    "gimlet_comments20 = get_reddit_comments('gimlet', 1549295316)"
   ]
  },
  {
   "cell_type": "code",
   "execution_count": 189,
   "metadata": {},
   "outputs": [],
   "source": [
    "gimlet_comments20 = gimlet_comments20[['subreddit', 'author', 'body', 'created_utc']]"
   ]
  },
  {
   "cell_type": "code",
   "execution_count": 190,
   "metadata": {},
   "outputs": [
    {
     "data": {
      "text/plain": [
       "subreddit                                            gimlet\n",
       "author                                             -Teekey-\n",
       "body            I think Gimlet 'owns' the show, not Starlee\n",
       "created_utc                                      1548775956\n",
       "dtype: object"
      ]
     },
     "execution_count": 190,
     "metadata": {},
     "output_type": "execute_result"
    }
   ],
   "source": [
    "gimlet_comments20.min()"
   ]
  },
  {
   "cell_type": "code",
   "execution_count": 191,
   "metadata": {},
   "outputs": [],
   "source": [
    "gimlet_comments21 = get_reddit_comments('gimlet', 1548775956)"
   ]
  },
  {
   "cell_type": "code",
   "execution_count": 192,
   "metadata": {},
   "outputs": [],
   "source": [
    "gimlet_comments21 = gimlet_comments21[['subreddit', 'author', 'body', 'created_utc']]"
   ]
  },
  {
   "cell_type": "code",
   "execution_count": 193,
   "metadata": {},
   "outputs": [
    {
     "data": {
      "text/plain": [
       "subreddit                                                 gimlet\n",
       "author                                                    109876\n",
       "body            Jason  Mantzoukas WAS AMAZING PLEASE HAVE HIM...\n",
       "created_utc                                           1546873218\n",
       "dtype: object"
      ]
     },
     "execution_count": 193,
     "metadata": {},
     "output_type": "execute_result"
    }
   ],
   "source": [
    "gimlet_comments21.min()"
   ]
  },
  {
   "cell_type": "code",
   "execution_count": 194,
   "metadata": {},
   "outputs": [],
   "source": [
    "gimlet_comments22 = get_reddit_comments('gimlet', 1546873218)"
   ]
  },
  {
   "cell_type": "code",
   "execution_count": 195,
   "metadata": {},
   "outputs": [],
   "source": [
    "gimlet_comments22 = gimlet_comments22[['subreddit', 'author', 'body', 'created_utc']]"
   ]
  },
  {
   "cell_type": "code",
   "execution_count": 196,
   "metadata": {},
   "outputs": [
    {
     "data": {
      "text/plain": [
       "subreddit                                                 gimlet\n",
       "author                                                 -007-bond\n",
       "body           \\n&gt;I do think there's a difference, though,...\n",
       "created_utc                                           1545330790\n",
       "dtype: object"
      ]
     },
     "execution_count": 196,
     "metadata": {},
     "output_type": "execute_result"
    }
   ],
   "source": [
    "gimlet_comments22.min()"
   ]
  },
  {
   "cell_type": "code",
   "execution_count": 197,
   "metadata": {},
   "outputs": [],
   "source": [
    "gimlet_comments23 = get_reddit_comments('gimlet', 1545330790)"
   ]
  },
  {
   "cell_type": "code",
   "execution_count": 198,
   "metadata": {},
   "outputs": [],
   "source": [
    "gimlet_comments23 = gimlet_comments23[['subreddit', 'author', 'body', 'created_utc']]"
   ]
  },
  {
   "cell_type": "code",
   "execution_count": 199,
   "metadata": {},
   "outputs": [
    {
     "data": {
      "text/plain": [
       "subreddit                                                 gimlet\n",
       "author                                          -thepornaccount-\n",
       "body           \\n&gt;Does that explain the huge discrepancy i...\n",
       "created_utc                                           1544393935\n",
       "dtype: object"
      ]
     },
     "execution_count": 199,
     "metadata": {},
     "output_type": "execute_result"
    }
   ],
   "source": [
    "gimlet_comments23.min()"
   ]
  },
  {
   "cell_type": "code",
   "execution_count": 200,
   "metadata": {},
   "outputs": [],
   "source": [
    "gimlet_comments24 = get_reddit_comments('gimlet', 1544393935)"
   ]
  },
  {
   "cell_type": "code",
   "execution_count": 201,
   "metadata": {},
   "outputs": [],
   "source": [
    "gimlet_comments24 = gimlet_comments24[['subreddit', 'author', 'body', 'created_utc']]"
   ]
  },
  {
   "cell_type": "code",
   "execution_count": 202,
   "metadata": {},
   "outputs": [
    {
     "data": {
      "text/plain": [
       "subreddit                                                 gimlet\n",
       "author                                               03815243548\n",
       "body           \\n&gt;Spotify isn't a podcast app. It's Pandor...\n",
       "created_utc                                           1543585314\n",
       "dtype: object"
      ]
     },
     "execution_count": 202,
     "metadata": {},
     "output_type": "execute_result"
    }
   ],
   "source": [
    "gimlet_comments24.min()"
   ]
  },
  {
   "cell_type": "code",
   "execution_count": 203,
   "metadata": {},
   "outputs": [],
   "source": [
    "gimlet_comments25 = get_reddit_comments('gimlet', 1543585314)"
   ]
  },
  {
   "cell_type": "code",
   "execution_count": 204,
   "metadata": {},
   "outputs": [],
   "source": [
    "gimlet_comments25 = gimlet_comments25[['subreddit', 'author', 'body', 'created_utc']]"
   ]
  },
  {
   "cell_type": "code",
   "execution_count": 205,
   "metadata": {},
   "outputs": [
    {
     "data": {
      "text/plain": [
       "subreddit                                                 gimlet\n",
       "author                                          -StevieJanowski-\n",
       "body           \\nBecause they have to constrain themselves to...\n",
       "created_utc                                           1542223473\n",
       "dtype: object"
      ]
     },
     "execution_count": 205,
     "metadata": {},
     "output_type": "execute_result"
    }
   ],
   "source": [
    "gimlet_comments25.min()"
   ]
  },
  {
   "cell_type": "code",
   "execution_count": 210,
   "metadata": {},
   "outputs": [],
   "source": [
    "max_fun_comments3 = pd.concat([max_fun_comments16, max_fun_comments17, max_fun_comments18, max_fun_comments19, max_fun_comments20, max_fun_comments21, max_fun_comments22, max_fun_comments23, max_fun_comments24, max_fun_comments25], sort=True)"
   ]
  },
  {
   "cell_type": "code",
   "execution_count": 211,
   "metadata": {},
   "outputs": [],
   "source": [
    "max_fun_comments3.to_csv('./data/max_fun_comments3.csv', index=False)"
   ]
  },
  {
   "cell_type": "code",
   "execution_count": 215,
   "metadata": {},
   "outputs": [],
   "source": [
    "gimlet_comments3 = pd.concat([gimlet_comments16, gimlet_comments17, gimlet_comments18, gimlet_comments19, gimlet_comments20, gimlet_comments21, gimlet_comments22, gimlet_comments23, gimlet_comments24, gimlet_comments25], sort=True)"
   ]
  },
  {
   "cell_type": "code",
   "execution_count": 216,
   "metadata": {},
   "outputs": [],
   "source": [
    "gimlet_comments3.to_csv('./data/gimlet_comments3.csv', index=False)"
   ]
  }
 ],
 "metadata": {
  "kernelspec": {
   "display_name": "Python 3",
   "language": "python",
   "name": "python3"
  },
  "language_info": {
   "codemirror_mode": {
    "name": "ipython",
    "version": 3
   },
   "file_extension": ".py",
   "mimetype": "text/x-python",
   "name": "python",
   "nbconvert_exporter": "python",
   "pygments_lexer": "ipython3",
   "version": "3.7.6"
  }
 },
 "nbformat": 4,
 "nbformat_minor": 4
}
